{
 "cells": [
  {
   "cell_type": "code",
   "execution_count": 1,
   "metadata": {},
   "outputs": [],
   "source": [
    "import pandas as pd\n",
    "import numpy as np\n",
    "import seaborn as sns\n",
    "from tqdm import tqdm\n",
    "\n",
    "import requests  # requests 모듈 임포트"
   ]
  },
  {
   "cell_type": "code",
   "execution_count": 2,
   "metadata": {},
   "outputs": [],
   "source": [
    "# def download_file(file_url, save_path):\n",
    "#     with open(save_path, 'wb') as f: # 저장할 파일을 바이너리 쓰기 모드로 열기\n",
    "#         response = requests.get(file_url) # 파일 URL에 GET 요청 보내기\n",
    "#         f.write(response.content) # 응답의 내용을 파일에 쓰기\n",
    "\n",
    "# temp=pd.DataFrame()\n",
    "\n",
    "\n",
    "# for i in tqdm(range(1,93)):\n",
    "#     if i < 10:\n",
    "#         url = f'https://apihub.kma.go.kr/api/typ01/cgi-bin/url/nph-aws2_min?tm1=2019100{i}0000&tm2=2019100{i}1159&stn=129&disp=1&help=1&authKey=2izc0OqiSVGs3NDqoqlR-A'\n",
    "#         url1 =f'https://apihub.kma.go.kr/api/typ01/cgi-bin/url/nph-aws2_min?tm1=2019100{i}1200&tm2=2019100{i}2359&stn=129&disp=1&help=1&authKey=2izc0OqiSVGs3NDqoqlR-A'\n",
    "        \n",
    "#     else:\n",
    "\n",
    "#         url = f'https://apihub.kma.go.kr/api/typ01/cgi-bin/url/nph-aws2_min?tm1=201910{i}0000&tm2=201910{i}1159&stn=129&disp=1&help=1&authKey=2izc0OqiSVGs3NDqoqlR-A'\n",
    "#         url1 =f'https://apihub.kma.go.kr/api/typ01/cgi-bin/url/nph-aws2_min?tm1=201910{i}1200&tm2=201910{i}2359&stn=129&disp=1&help=1&authKey=2izc0OqiSVGs3NDqoqlR-A'\n",
    "\n",
    "#     save_file_path = f'../data./tp/temp_19_{i}.csv'\n",
    "#     save_file_path1 = f'../data./tp/temp_19_{i}.csv'\n",
    "\n",
    "\n",
    "#     # 파일 다운로드 함수를 호출합니다.\n",
    "#     download_file(url, save_file_path)\n",
    "#     download_file(url1, save_file_path1)\n",
    "    \n",
    "#     # print download state\n",
    "#     print('Download complete\\n')\n",
    "    \n",
    "#     temp_a = pd.read_csv(f'../data./tp/temp_19_{i}.csv', \n",
    "#                          header=None, \n",
    "#                          encoding='cp949', skiprows=22)\n",
    "    \n",
    "#     temp_b = pd.read_csv(f'../data./tp/temp_19_{i}.csv', \n",
    "#                          header=None, \n",
    "#                          encoding='cp949', skiprows=22)\n",
    "    \n",
    "#     # Remove last row (END command)\n",
    "#     temp_a.drop(len(temp_a)-1, inplace=True)\n",
    "#     temp_b.drop(len(temp_b)-1, inplace=True)\n",
    "    \n",
    "#     if i == 1:\n",
    "#         temp = pd.concat([temp, temp_a])\n",
    "#         temp = pd.concat([temp, temp_b])\n",
    "    \n",
    "#     else:\n",
    "#         temp = pd.concat([temp, temp_a, temp_b])\n",
    "  "
   ]
  },
  {
   "cell_type": "code",
   "execution_count": 3,
   "metadata": {},
   "outputs": [
    {
     "name": "stderr",
     "output_type": "stream",
     "text": [
      "  1%|          | 1/91 [00:34<52:05, 34.73s/it]"
     ]
    },
    {
     "name": "stdout",
     "output_type": "stream",
     "text": [
      "Download complete\n",
      "\n"
     ]
    },
    {
     "name": "stderr",
     "output_type": "stream",
     "text": [
      "  2%|▏         | 2/91 [01:10<52:08, 35.15s/it]"
     ]
    },
    {
     "name": "stdout",
     "output_type": "stream",
     "text": [
      "Download complete\n",
      "\n"
     ]
    },
    {
     "name": "stderr",
     "output_type": "stream",
     "text": [
      "  3%|▎         | 3/91 [01:44<50:53, 34.70s/it]"
     ]
    },
    {
     "name": "stdout",
     "output_type": "stream",
     "text": [
      "Download complete\n",
      "\n"
     ]
    },
    {
     "name": "stderr",
     "output_type": "stream",
     "text": [
      "  4%|▍         | 4/91 [02:18<49:46, 34.33s/it]"
     ]
    },
    {
     "name": "stdout",
     "output_type": "stream",
     "text": [
      "Download complete\n",
      "\n"
     ]
    },
    {
     "name": "stderr",
     "output_type": "stream",
     "text": [
      "  5%|▌         | 5/91 [02:53<49:38, 34.64s/it]"
     ]
    },
    {
     "name": "stdout",
     "output_type": "stream",
     "text": [
      "Download complete\n",
      "\n"
     ]
    },
    {
     "name": "stderr",
     "output_type": "stream",
     "text": [
      "  7%|▋         | 6/91 [03:27<48:52, 34.50s/it]"
     ]
    },
    {
     "name": "stdout",
     "output_type": "stream",
     "text": [
      "Download complete\n",
      "\n"
     ]
    },
    {
     "name": "stderr",
     "output_type": "stream",
     "text": [
      "  8%|▊         | 7/91 [04:19<56:29, 40.35s/it]"
     ]
    },
    {
     "name": "stdout",
     "output_type": "stream",
     "text": [
      "Download complete\n",
      "\n"
     ]
    },
    {
     "name": "stderr",
     "output_type": "stream",
     "text": [
      "  9%|▉         | 8/91 [04:54<53:21, 38.58s/it]"
     ]
    },
    {
     "name": "stdout",
     "output_type": "stream",
     "text": [
      "Download complete\n",
      "\n"
     ]
    },
    {
     "name": "stderr",
     "output_type": "stream",
     "text": [
      " 10%|▉         | 9/91 [05:28<50:40, 37.08s/it]"
     ]
    },
    {
     "name": "stdout",
     "output_type": "stream",
     "text": [
      "Download complete\n",
      "\n"
     ]
    },
    {
     "name": "stderr",
     "output_type": "stream",
     "text": [
      " 11%|█         | 10/91 [06:18<55:34, 41.16s/it]"
     ]
    },
    {
     "name": "stdout",
     "output_type": "stream",
     "text": [
      "Download complete\n",
      "\n"
     ]
    },
    {
     "name": "stderr",
     "output_type": "stream",
     "text": [
      " 12%|█▏        | 11/91 [06:51<51:36, 38.71s/it]"
     ]
    },
    {
     "name": "stdout",
     "output_type": "stream",
     "text": [
      "Download complete\n",
      "\n"
     ]
    },
    {
     "name": "stderr",
     "output_type": "stream",
     "text": [
      " 13%|█▎        | 12/91 [07:27<49:43, 37.77s/it]"
     ]
    },
    {
     "name": "stdout",
     "output_type": "stream",
     "text": [
      "Download complete\n",
      "\n"
     ]
    },
    {
     "name": "stderr",
     "output_type": "stream",
     "text": [
      " 14%|█▍        | 13/91 [08:08<50:26, 38.80s/it]"
     ]
    },
    {
     "name": "stdout",
     "output_type": "stream",
     "text": [
      "Download complete\n",
      "\n"
     ]
    },
    {
     "name": "stderr",
     "output_type": "stream",
     "text": [
      " 15%|█▌        | 14/91 [08:43<48:11, 37.55s/it]"
     ]
    },
    {
     "name": "stdout",
     "output_type": "stream",
     "text": [
      "Download complete\n",
      "\n"
     ]
    },
    {
     "name": "stderr",
     "output_type": "stream",
     "text": [
      " 16%|█▋        | 15/91 [09:17<46:19, 36.57s/it]"
     ]
    },
    {
     "name": "stdout",
     "output_type": "stream",
     "text": [
      "Download complete\n",
      "\n"
     ]
    },
    {
     "name": "stderr",
     "output_type": "stream",
     "text": [
      " 18%|█▊        | 16/91 [09:51<44:42, 35.77s/it]"
     ]
    },
    {
     "name": "stdout",
     "output_type": "stream",
     "text": [
      "Download complete\n",
      "\n"
     ]
    },
    {
     "name": "stderr",
     "output_type": "stream",
     "text": [
      " 19%|█▊        | 17/91 [10:25<43:33, 35.32s/it]"
     ]
    },
    {
     "name": "stdout",
     "output_type": "stream",
     "text": [
      "Download complete\n",
      "\n"
     ]
    },
    {
     "name": "stderr",
     "output_type": "stream",
     "text": [
      " 20%|█▉        | 18/91 [11:08<45:30, 37.41s/it]"
     ]
    },
    {
     "name": "stdout",
     "output_type": "stream",
     "text": [
      "Download complete\n",
      "\n"
     ]
    },
    {
     "name": "stderr",
     "output_type": "stream",
     "text": [
      " 21%|██        | 19/91 [11:42<43:50, 36.54s/it]"
     ]
    },
    {
     "name": "stdout",
     "output_type": "stream",
     "text": [
      "Download complete\n",
      "\n"
     ]
    },
    {
     "name": "stderr",
     "output_type": "stream",
     "text": [
      " 22%|██▏       | 20/91 [12:17<42:34, 35.98s/it]"
     ]
    },
    {
     "name": "stdout",
     "output_type": "stream",
     "text": [
      "Download complete\n",
      "\n"
     ]
    },
    {
     "name": "stderr",
     "output_type": "stream",
     "text": [
      " 23%|██▎       | 21/91 [12:49<40:42, 34.90s/it]"
     ]
    },
    {
     "name": "stdout",
     "output_type": "stream",
     "text": [
      "Download complete\n",
      "\n"
     ]
    },
    {
     "name": "stderr",
     "output_type": "stream",
     "text": [
      " 24%|██▍       | 22/91 [13:22<39:16, 34.16s/it]"
     ]
    },
    {
     "name": "stdout",
     "output_type": "stream",
     "text": [
      "Download complete\n",
      "\n"
     ]
    },
    {
     "name": "stderr",
     "output_type": "stream",
     "text": [
      " 24%|██▍       | 22/91 [13:40<42:54, 37.32s/it]\n"
     ]
    },
    {
     "ename": "ChunkedEncodingError",
     "evalue": "Response ended prematurely",
     "output_type": "error",
     "traceback": [
      "\u001b[1;31m---------------------------------------------------------------------------\u001b[0m",
      "\u001b[1;31mProtocolError\u001b[0m                             Traceback (most recent call last)",
      "File \u001b[1;32mc:\\Users\\CSK\\Documents\\coder\\NOx-with-TFT\\venv\\lib\\site-packages\\requests\\models.py:820\u001b[0m, in \u001b[0;36mResponse.iter_content.<locals>.generate\u001b[1;34m()\u001b[0m\n\u001b[0;32m    819\u001b[0m \u001b[38;5;28;01mtry\u001b[39;00m:\n\u001b[1;32m--> 820\u001b[0m     \u001b[38;5;28;01myield from\u001b[39;00m \u001b[38;5;28mself\u001b[39m\u001b[38;5;241m.\u001b[39mraw\u001b[38;5;241m.\u001b[39mstream(chunk_size, decode_content\u001b[38;5;241m=\u001b[39m\u001b[38;5;28;01mTrue\u001b[39;00m)\n\u001b[0;32m    821\u001b[0m \u001b[38;5;28;01mexcept\u001b[39;00m ProtocolError \u001b[38;5;28;01mas\u001b[39;00m e:\n",
      "File \u001b[1;32mc:\\Users\\CSK\\Documents\\coder\\NOx-with-TFT\\venv\\lib\\site-packages\\urllib3\\response.py:1057\u001b[0m, in \u001b[0;36mHTTPResponse.stream\u001b[1;34m(self, amt, decode_content)\u001b[0m\n\u001b[0;32m   1056\u001b[0m \u001b[38;5;28;01mif\u001b[39;00m \u001b[38;5;28mself\u001b[39m\u001b[38;5;241m.\u001b[39mchunked \u001b[38;5;129;01mand\u001b[39;00m \u001b[38;5;28mself\u001b[39m\u001b[38;5;241m.\u001b[39msupports_chunked_reads():\n\u001b[1;32m-> 1057\u001b[0m     \u001b[38;5;28;01myield from\u001b[39;00m \u001b[38;5;28mself\u001b[39m\u001b[38;5;241m.\u001b[39mread_chunked(amt, decode_content\u001b[38;5;241m=\u001b[39mdecode_content)\n\u001b[0;32m   1058\u001b[0m \u001b[38;5;28;01melse\u001b[39;00m:\n",
      "File \u001b[1;32mc:\\Users\\CSK\\Documents\\coder\\NOx-with-TFT\\venv\\lib\\site-packages\\urllib3\\response.py:1206\u001b[0m, in \u001b[0;36mHTTPResponse.read_chunked\u001b[1;34m(self, amt, decode_content)\u001b[0m\n\u001b[0;32m   1205\u001b[0m \u001b[38;5;28;01mwhile\u001b[39;00m \u001b[38;5;28;01mTrue\u001b[39;00m:\n\u001b[1;32m-> 1206\u001b[0m     \u001b[38;5;28;43mself\u001b[39;49m\u001b[38;5;241;43m.\u001b[39;49m\u001b[43m_update_chunk_length\u001b[49m\u001b[43m(\u001b[49m\u001b[43m)\u001b[49m\n\u001b[0;32m   1207\u001b[0m     \u001b[38;5;28;01mif\u001b[39;00m \u001b[38;5;28mself\u001b[39m\u001b[38;5;241m.\u001b[39mchunk_left \u001b[38;5;241m==\u001b[39m \u001b[38;5;241m0\u001b[39m:\n",
      "File \u001b[1;32mc:\\Users\\CSK\\Documents\\coder\\NOx-with-TFT\\venv\\lib\\site-packages\\urllib3\\response.py:1136\u001b[0m, in \u001b[0;36mHTTPResponse._update_chunk_length\u001b[1;34m(self)\u001b[0m\n\u001b[0;32m   1134\u001b[0m \u001b[38;5;28;01melse\u001b[39;00m:\n\u001b[0;32m   1135\u001b[0m     \u001b[38;5;66;03m# Truncated at start of next chunk\u001b[39;00m\n\u001b[1;32m-> 1136\u001b[0m     \u001b[38;5;28;01mraise\u001b[39;00m ProtocolError(\u001b[38;5;124m\"\u001b[39m\u001b[38;5;124mResponse ended prematurely\u001b[39m\u001b[38;5;124m\"\u001b[39m) \u001b[38;5;28;01mfrom\u001b[39;00m \u001b[38;5;28;01mNone\u001b[39;00m\n",
      "\u001b[1;31mProtocolError\u001b[0m: Response ended prematurely",
      "\nDuring handling of the above exception, another exception occurred:\n",
      "\u001b[1;31mChunkedEncodingError\u001b[0m                      Traceback (most recent call last)",
      "Cell \u001b[1;32mIn[3], line 25\u001b[0m\n\u001b[0;32m     23\u001b[0m \u001b[38;5;66;03m# 파일 다운로드 함수를 호출합니다.\u001b[39;00m\n\u001b[0;32m     24\u001b[0m download_file(url, save_file_path)\n\u001b[1;32m---> 25\u001b[0m \u001b[43mdownload_file\u001b[49m\u001b[43m(\u001b[49m\u001b[43murl1\u001b[49m\u001b[43m,\u001b[49m\u001b[43m \u001b[49m\u001b[43msave_file_path1\u001b[49m\u001b[43m)\u001b[49m\n\u001b[0;32m     27\u001b[0m \u001b[38;5;66;03m# print download state\u001b[39;00m\n\u001b[0;32m     28\u001b[0m \u001b[38;5;28mprint\u001b[39m(\u001b[38;5;124m'\u001b[39m\u001b[38;5;124mDownload complete\u001b[39m\u001b[38;5;130;01m\\n\u001b[39;00m\u001b[38;5;124m'\u001b[39m)\n",
      "Cell \u001b[1;32mIn[3], line 4\u001b[0m, in \u001b[0;36mdownload_file\u001b[1;34m(file_url, save_path)\u001b[0m\n\u001b[0;32m      2\u001b[0m \u001b[38;5;28;01mdef\u001b[39;00m \u001b[38;5;21mdownload_file\u001b[39m(file_url, save_path):\n\u001b[0;32m      3\u001b[0m     \u001b[38;5;28;01mwith\u001b[39;00m \u001b[38;5;28mopen\u001b[39m(save_path, \u001b[38;5;124m'\u001b[39m\u001b[38;5;124mwb\u001b[39m\u001b[38;5;124m'\u001b[39m) \u001b[38;5;28;01mas\u001b[39;00m f: \u001b[38;5;66;03m# 저장할 파일을 바이너리 쓰기 모드로 열기\u001b[39;00m\n\u001b[1;32m----> 4\u001b[0m         response \u001b[38;5;241m=\u001b[39m \u001b[43mrequests\u001b[49m\u001b[38;5;241;43m.\u001b[39;49m\u001b[43mget\u001b[49m\u001b[43m(\u001b[49m\u001b[43mfile_url\u001b[49m\u001b[43m)\u001b[49m \u001b[38;5;66;03m# 파일 URL에 GET 요청 보내기\u001b[39;00m\n\u001b[0;32m      5\u001b[0m         f\u001b[38;5;241m.\u001b[39mwrite(response\u001b[38;5;241m.\u001b[39mcontent)\n",
      "File \u001b[1;32mc:\\Users\\CSK\\Documents\\coder\\NOx-with-TFT\\venv\\lib\\site-packages\\requests\\api.py:73\u001b[0m, in \u001b[0;36mget\u001b[1;34m(url, params, **kwargs)\u001b[0m\n\u001b[0;32m     62\u001b[0m \u001b[38;5;28;01mdef\u001b[39;00m \u001b[38;5;21mget\u001b[39m(url, params\u001b[38;5;241m=\u001b[39m\u001b[38;5;28;01mNone\u001b[39;00m, \u001b[38;5;241m*\u001b[39m\u001b[38;5;241m*\u001b[39mkwargs):\n\u001b[0;32m     63\u001b[0m \u001b[38;5;250m    \u001b[39m\u001b[38;5;124mr\u001b[39m\u001b[38;5;124;03m\"\"\"Sends a GET request.\u001b[39;00m\n\u001b[0;32m     64\u001b[0m \n\u001b[0;32m     65\u001b[0m \u001b[38;5;124;03m    :param url: URL for the new :class:`Request` object.\u001b[39;00m\n\u001b[1;32m   (...)\u001b[0m\n\u001b[0;32m     70\u001b[0m \u001b[38;5;124;03m    :rtype: requests.Response\u001b[39;00m\n\u001b[0;32m     71\u001b[0m \u001b[38;5;124;03m    \"\"\"\u001b[39;00m\n\u001b[1;32m---> 73\u001b[0m     \u001b[38;5;28;01mreturn\u001b[39;00m request(\u001b[38;5;124m\"\u001b[39m\u001b[38;5;124mget\u001b[39m\u001b[38;5;124m\"\u001b[39m, url, params\u001b[38;5;241m=\u001b[39mparams, \u001b[38;5;241m*\u001b[39m\u001b[38;5;241m*\u001b[39mkwargs)\n",
      "File \u001b[1;32mc:\\Users\\CSK\\Documents\\coder\\NOx-with-TFT\\venv\\lib\\site-packages\\requests\\api.py:59\u001b[0m, in \u001b[0;36mrequest\u001b[1;34m(method, url, **kwargs)\u001b[0m\n\u001b[0;32m     55\u001b[0m \u001b[38;5;66;03m# By using the 'with' statement we are sure the session is closed, thus we\u001b[39;00m\n\u001b[0;32m     56\u001b[0m \u001b[38;5;66;03m# avoid leaving sockets open which can trigger a ResourceWarning in some\u001b[39;00m\n\u001b[0;32m     57\u001b[0m \u001b[38;5;66;03m# cases, and look like a memory leak in others.\u001b[39;00m\n\u001b[0;32m     58\u001b[0m \u001b[38;5;28;01mwith\u001b[39;00m sessions\u001b[38;5;241m.\u001b[39mSession() \u001b[38;5;28;01mas\u001b[39;00m session:\n\u001b[1;32m---> 59\u001b[0m     \u001b[38;5;28;01mreturn\u001b[39;00m session\u001b[38;5;241m.\u001b[39mrequest(method\u001b[38;5;241m=\u001b[39mmethod, url\u001b[38;5;241m=\u001b[39murl, \u001b[38;5;241m*\u001b[39m\u001b[38;5;241m*\u001b[39mkwargs)\n",
      "File \u001b[1;32mc:\\Users\\CSK\\Documents\\coder\\NOx-with-TFT\\venv\\lib\\site-packages\\requests\\sessions.py:589\u001b[0m, in \u001b[0;36mSession.request\u001b[1;34m(self, method, url, params, data, headers, cookies, files, auth, timeout, allow_redirects, proxies, hooks, stream, verify, cert, json)\u001b[0m\n\u001b[0;32m    584\u001b[0m send_kwargs \u001b[38;5;241m=\u001b[39m {\n\u001b[0;32m    585\u001b[0m     \u001b[38;5;124m\"\u001b[39m\u001b[38;5;124mtimeout\u001b[39m\u001b[38;5;124m\"\u001b[39m: timeout,\n\u001b[0;32m    586\u001b[0m     \u001b[38;5;124m\"\u001b[39m\u001b[38;5;124mallow_redirects\u001b[39m\u001b[38;5;124m\"\u001b[39m: allow_redirects,\n\u001b[0;32m    587\u001b[0m }\n\u001b[0;32m    588\u001b[0m send_kwargs\u001b[38;5;241m.\u001b[39mupdate(settings)\n\u001b[1;32m--> 589\u001b[0m resp \u001b[38;5;241m=\u001b[39m \u001b[38;5;28mself\u001b[39m\u001b[38;5;241m.\u001b[39msend(prep, \u001b[38;5;241m*\u001b[39m\u001b[38;5;241m*\u001b[39msend_kwargs)\n\u001b[0;32m    591\u001b[0m \u001b[38;5;28;01mreturn\u001b[39;00m resp\n",
      "File \u001b[1;32mc:\\Users\\CSK\\Documents\\coder\\NOx-with-TFT\\venv\\lib\\site-packages\\requests\\sessions.py:746\u001b[0m, in \u001b[0;36mSession.send\u001b[1;34m(self, request, **kwargs)\u001b[0m\n\u001b[0;32m    743\u001b[0m         \u001b[38;5;28;01mpass\u001b[39;00m\n\u001b[0;32m    745\u001b[0m \u001b[38;5;28;01mif\u001b[39;00m \u001b[38;5;129;01mnot\u001b[39;00m stream:\n\u001b[1;32m--> 746\u001b[0m     \u001b[43mr\u001b[49m\u001b[38;5;241;43m.\u001b[39;49m\u001b[43mcontent\u001b[49m\n\u001b[0;32m    748\u001b[0m \u001b[38;5;28;01mreturn\u001b[39;00m r\n",
      "File \u001b[1;32mc:\\Users\\CSK\\Documents\\coder\\NOx-with-TFT\\venv\\lib\\site-packages\\requests\\models.py:902\u001b[0m, in \u001b[0;36mResponse.content\u001b[1;34m(self)\u001b[0m\n\u001b[0;32m    900\u001b[0m         \u001b[38;5;28mself\u001b[39m\u001b[38;5;241m.\u001b[39m_content \u001b[38;5;241m=\u001b[39m \u001b[38;5;28;01mNone\u001b[39;00m\n\u001b[0;32m    901\u001b[0m     \u001b[38;5;28;01melse\u001b[39;00m:\n\u001b[1;32m--> 902\u001b[0m         \u001b[38;5;28mself\u001b[39m\u001b[38;5;241m.\u001b[39m_content \u001b[38;5;241m=\u001b[39m \u001b[38;5;124;43mb\u001b[39;49m\u001b[38;5;124;43m\"\u001b[39;49m\u001b[38;5;124;43m\"\u001b[39;49m\u001b[38;5;241;43m.\u001b[39;49m\u001b[43mjoin\u001b[49m\u001b[43m(\u001b[49m\u001b[38;5;28;43mself\u001b[39;49m\u001b[38;5;241;43m.\u001b[39;49m\u001b[43miter_content\u001b[49m\u001b[43m(\u001b[49m\u001b[43mCONTENT_CHUNK_SIZE\u001b[49m\u001b[43m)\u001b[49m\u001b[43m)\u001b[49m \u001b[38;5;129;01mor\u001b[39;00m \u001b[38;5;124mb\u001b[39m\u001b[38;5;124m\"\u001b[39m\u001b[38;5;124m\"\u001b[39m\n\u001b[0;32m    904\u001b[0m \u001b[38;5;28mself\u001b[39m\u001b[38;5;241m.\u001b[39m_content_consumed \u001b[38;5;241m=\u001b[39m \u001b[38;5;28;01mTrue\u001b[39;00m\n\u001b[0;32m    905\u001b[0m \u001b[38;5;66;03m# don't need to release the connection; that's been handled by urllib3\u001b[39;00m\n\u001b[0;32m    906\u001b[0m \u001b[38;5;66;03m# since we exhausted the data.\u001b[39;00m\n",
      "File \u001b[1;32mc:\\Users\\CSK\\Documents\\coder\\NOx-with-TFT\\venv\\lib\\site-packages\\requests\\models.py:822\u001b[0m, in \u001b[0;36mResponse.iter_content.<locals>.generate\u001b[1;34m()\u001b[0m\n\u001b[0;32m    820\u001b[0m     \u001b[38;5;28;01myield from\u001b[39;00m \u001b[38;5;28mself\u001b[39m\u001b[38;5;241m.\u001b[39mraw\u001b[38;5;241m.\u001b[39mstream(chunk_size, decode_content\u001b[38;5;241m=\u001b[39m\u001b[38;5;28;01mTrue\u001b[39;00m)\n\u001b[0;32m    821\u001b[0m \u001b[38;5;28;01mexcept\u001b[39;00m ProtocolError \u001b[38;5;28;01mas\u001b[39;00m e:\n\u001b[1;32m--> 822\u001b[0m     \u001b[38;5;28;01mraise\u001b[39;00m ChunkedEncodingError(e)\n\u001b[0;32m    823\u001b[0m \u001b[38;5;28;01mexcept\u001b[39;00m DecodeError \u001b[38;5;28;01mas\u001b[39;00m e:\n\u001b[0;32m    824\u001b[0m     \u001b[38;5;28;01mraise\u001b[39;00m ContentDecodingError(e)\n",
      "\u001b[1;31mChunkedEncodingError\u001b[0m: Response ended prematurely"
     ]
    }
   ],
   "source": [
    "# 2020\n",
    "def download_file(file_url, save_path):\n",
    "    with open(save_path, 'wb') as f: # 저장할 파일을 바이너리 쓰기 모드로 열기\n",
    "        response = requests.get(file_url) # 파일 URL에 GET 요청 보내기\n",
    "        f.write(response.content) # 응답의 내용을 파일에 쓰기\n",
    "\n",
    "temp=pd.DataFrame()\n",
    "\n",
    "for i in tqdm(range(1,92)):\n",
    "    if i < 10:\n",
    "        url = f'https://apihub.kma.go.kr/api/typ01/cgi-bin/url/nph-aws2_min?tm1=2020010{i}0000&tm2=2020010{i}1159&stn=129&disp=1&help=1&authKey=2izc0OqiSVGs3NDqoqlR-A'\n",
    "        url1 =f'https://apihub.kma.go.kr/api/typ01/cgi-bin/url/nph-aws2_min?tm1=2020010{i}1200&tm2=2020010{i}2359&stn=129&disp=1&help=1&authKey=2izc0OqiSVGs3NDqoqlR-A'\n",
    "        \n",
    "    else:\n",
    "\n",
    "        url = f'https://apihub.kma.go.kr/api/typ01/cgi-bin/url/nph-aws2_min?tm1=202001{i}0000&tm2=202001{i}1159&stn=129&disp=1&help=1&authKey=2izc0OqiSVGs3NDqoqlR-A'\n",
    "        url1 =f'https://apihub.kma.go.kr/api/typ01/cgi-bin/url/nph-aws2_min?tm1=202001{i}1200&tm2=202001{i}2359&stn=129&disp=1&help=1&authKey=2izc0OqiSVGs3NDqoqlR-A'\n",
    "\n",
    "    save_file_path = f'../data./tp/temp_20_a_{i}.csv'\n",
    "    save_file_path1 = f'../data./tp/temp_20_b_{i}.csv'\n",
    "\n",
    "\n",
    "    # 파일 다운로드 함수를 호출합니다.\n",
    "    download_file(url, save_file_path)\n",
    "    download_file(url1, save_file_path1)\n",
    "    \n",
    "    # print download state\n",
    "    print('Download complete\\n')\n",
    "    \n",
    "    temp_a = pd.read_csv(f'../data./tp/temp_20_a_{i}.csv', \n",
    "                         header=None, \n",
    "                         encoding='cp949', skiprows=22)\n",
    "    \n",
    "    temp_b = pd.read_csv(f'../data./tp/temp_20_b_{i}.csv', \n",
    "                         header=None, \n",
    "                         encoding='cp949', skiprows=22)\n",
    "    \n",
    "    # Remove last row (END command)\n",
    "    temp_a.drop(len(temp_a)-1, inplace=True)\n",
    "    temp_b.drop(len(temp_b)-1, inplace=True)\n",
    "    \n",
    "    temp = pd.concat([temp, temp_a, temp_b])\n",
    "    \n",
    "for i in tqdm(range(1,92)):\n",
    "    if i < 10:\n",
    "        url = f'https://apihub.kma.go.kr/api/typ01/cgi-bin/url/nph-aws2_min?tm1=2020040{i}0000&tm2=2020040{i}1159&stn=129&disp=1&help=1&authKey=2izc0OqiSVGs3NDqoqlR-A'\n",
    "        url1 =f'https://apihub.kma.go.kr/api/typ01/cgi-bin/url/nph-aws2_min?tm1=2020040{i}1200&tm2=2020040{i}2359&stn=129&disp=1&help=1&authKey=2izc0OqiSVGs3NDqoqlR-A'\n",
    "        \n",
    "    else:\n",
    "\n",
    "        url = f'https://apihub.kma.go.kr/api/typ01/cgi-bin/url/nph-aws2_min?tm1=202004{i}0000&tm2=202004{i}1159&stn=129&disp=1&help=1&authKey=2izc0OqiSVGs3NDqoqlR-A'\n",
    "        url1 =f'https://apihub.kma.go.kr/api/typ01/cgi-bin/url/nph-aws2_min?tm1=202004{i}1200&tm2=202004{i}2359&stn=129&disp=1&help=1&authKey=2izc0OqiSVGs3NDqoqlR-A'\n",
    "\n",
    "    save_file_path = f'../data./tp/temp_20_c_{i}.csv'\n",
    "    save_file_path1 = f'../data./tp/temp_20_d_{i}.csv'\n",
    "\n",
    "\n",
    "    # 파일 다운로드 함수를 호출합니다.\n",
    "    download_file(url, save_file_path)\n",
    "    download_file(url1, save_file_path1)\n",
    "    \n",
    "    # print download state\n",
    "    print('Download complete\\n')\n",
    "    \n",
    "    temp_a = pd.read_csv(f'../data./tp/temp_20_c_{i}.csv', \n",
    "                         header=None, \n",
    "                         encoding='cp949', skiprows=22)\n",
    "    \n",
    "    temp_b = pd.read_csv(f'../data./tp/temp_20_d_{i}.csv', \n",
    "                         header=None, \n",
    "                         encoding='cp949', skiprows=22)\n",
    "    \n",
    "    # Remove last row (END command)\n",
    "    temp_a.drop(len(temp_a)-1, inplace=True)\n",
    "    temp_b.drop(len(temp_b)-1, inplace=True)\n",
    "    \n",
    "    temp = pd.concat([temp, temp_a, temp_b])\n",
    "\n",
    "for i in tqdm(range(1,93)):\n",
    "    if i < 10:\n",
    "        url = f'https://apihub.kma.go.kr/api/typ01/cgi-bin/url/nph-aws2_min?tm1=2020070{i}0000&tm2=2020070{i}1159&stn=129&disp=1&help=1&authKey=2izc0OqiSVGs3NDqoqlR-A'\n",
    "        url1 =f'https://apihub.kma.go.kr/api/typ01/cgi-bin/url/nph-aws2_min?tm1=2020070{i}1200&tm2=2020070{i}2359&stn=129&disp=1&help=1&authKey=2izc0OqiSVGs3NDqoqlR-A'\n",
    "        \n",
    "    else:\n",
    "\n",
    "        url = f'https://apihub.kma.go.kr/api/typ01/cgi-bin/url/nph-aws2_min?tm1=202007{i}0000&tm2=202007{i}1159&stn=129&disp=1&help=1&authKey=2izc0OqiSVGs3NDqoqlR-A'\n",
    "        url1 =f'https://apihub.kma.go.kr/api/typ01/cgi-bin/url/nph-aws2_min?tm1=202007{i}1200&tm2=202007{i}2359&stn=129&disp=1&help=1&authKey=2izc0OqiSVGs3NDqoqlR-A'\n",
    "\n",
    "    save_file_path = f'../data./tp/temp_20_e_{i}.csv'\n",
    "    save_file_path1 = f'../data./tp/temp_20_f_{i}.csv'\n",
    "\n",
    "\n",
    "    # 파일 다운로드 함수를 호출합니다.\n",
    "    download_file(url, save_file_path)\n",
    "    download_file(url1, save_file_path1)\n",
    "    \n",
    "    # print download state\n",
    "    print('Download complete\\n')\n",
    "    \n",
    "    temp_a = pd.read_csv(f'../data./tp/temp_20_e_{i}.csv', \n",
    "                         header=None, \n",
    "                         encoding='cp949', skiprows=22)\n",
    "    \n",
    "    temp_b = pd.read_csv(f'../data./tp/temp_20_f_{i}.csv', \n",
    "                         header=None, \n",
    "                         encoding='cp949', skiprows=22)\n",
    "    \n",
    "    # Remove last row (END command)\n",
    "    temp_a.drop(len(temp_a)-1, inplace=True)\n",
    "    temp_b.drop(len(temp_b)-1, inplace=True)\n",
    "    \n",
    "    temp = pd.concat([temp, temp_a, temp_b])\n",
    "    \n",
    "for i in tqdm(range(1,92)):\n",
    "    if i < 10:\n",
    "        url = f'https://apihub.kma.go.kr/api/typ01/cgi-bin/url/nph-aws2_min?tm1=2020100{i}0000&tm2=2020100{i}1159&stn=129&disp=1&help=1&authKey=2izc0OqiSVGs3NDqoqlR-A'\n",
    "        url1 =f'https://apihub.kma.go.kr/api/typ01/cgi-bin/url/nph-aws2_min?tm1=2020100{i}1200&tm2=2020100{i}2359&stn=129&disp=1&help=1&authKey=2izc0OqiSVGs3NDqoqlR-A'\n",
    "        \n",
    "    else:\n",
    "\n",
    "        url = f'https://apihub.kma.go.kr/api/typ01/cgi-bin/url/nph-aws2_min?tm1=202010{i}0000&tm2=202010{i}1159&stn=129&disp=1&help=1&authKey=2izc0OqiSVGs3NDqoqlR-A'\n",
    "        url1 =f'https://apihub.kma.go.kr/api/typ01/cgi-bin/url/nph-aws2_min?tm1=202010{i}1200&tm2=202010{i}2359&stn=129&disp=1&help=1&authKey=2izc0OqiSVGs3NDqoqlR-A'\n",
    "\n",
    "    save_file_path = f'../data./tp/temp_20_g_{i}.csv'\n",
    "    save_file_path1 = f'../data./tp/temp_20_h_{i}.csv'\n",
    "\n",
    "\n",
    "    # 파일 다운로드 함수를 호출합니다.\n",
    "    download_file(url, save_file_path)\n",
    "    download_file(url1, save_file_path1)\n",
    "    \n",
    "    # print download state\n",
    "    print('Download complete\\n')\n",
    "    \n",
    "    temp_a = pd.read_csv(f'../data./tp/temp_20_g_{i}.csv', \n",
    "                         header=None, \n",
    "                         encoding='cp949', skiprows=22)\n",
    "    \n",
    "    temp_b = pd.read_csv(f'../data./tp/temp_20_h_{i}.csv', \n",
    "                         header=None, \n",
    "                         encoding='cp949', skiprows=22)\n",
    "    \n",
    "    # Remove last row (END command)\n",
    "    temp_a.drop(len(temp_a)-1, inplace=True)\n",
    "    temp_b.drop(len(temp_b)-1, inplace=True)\n",
    "    \n",
    "    temp = pd.concat([temp, temp_a, temp_b])\n",
    "\n",
    "  "
   ]
  },
  {
   "cell_type": "code",
   "execution_count": null,
   "metadata": {},
   "outputs": [
    {
     "name": "stderr",
     "output_type": "stream",
     "text": [
      "  0%|          | 1/365 [00:35<3:36:08, 35.63s/it]"
     ]
    },
    {
     "name": "stdout",
     "output_type": "stream",
     "text": [
      "Download complete\n",
      "\n"
     ]
    },
    {
     "name": "stderr",
     "output_type": "stream",
     "text": [
      "  1%|          | 2/365 [01:13<3:42:29, 36.78s/it]"
     ]
    },
    {
     "name": "stdout",
     "output_type": "stream",
     "text": [
      "Download complete\n",
      "\n"
     ]
    },
    {
     "name": "stderr",
     "output_type": "stream",
     "text": [
      "  1%|          | 2/365 [01:16<3:51:49, 38.32s/it]\n"
     ]
    },
    {
     "ename": "ChunkedEncodingError",
     "evalue": "Response ended prematurely",
     "output_type": "error",
     "traceback": [
      "\u001b[1;31m---------------------------------------------------------------------------\u001b[0m",
      "\u001b[1;31mProtocolError\u001b[0m                             Traceback (most recent call last)",
      "File \u001b[1;32mc:\\Users\\CSK\\Documents\\coder\\NOx-with-TFT\\venv\\lib\\site-packages\\requests\\models.py:820\u001b[0m, in \u001b[0;36mResponse.iter_content.<locals>.generate\u001b[1;34m()\u001b[0m\n\u001b[0;32m    819\u001b[0m \u001b[38;5;28;01mtry\u001b[39;00m:\n\u001b[1;32m--> 820\u001b[0m     \u001b[38;5;28;01myield from\u001b[39;00m \u001b[38;5;28mself\u001b[39m\u001b[38;5;241m.\u001b[39mraw\u001b[38;5;241m.\u001b[39mstream(chunk_size, decode_content\u001b[38;5;241m=\u001b[39m\u001b[38;5;28;01mTrue\u001b[39;00m)\n\u001b[0;32m    821\u001b[0m \u001b[38;5;28;01mexcept\u001b[39;00m ProtocolError \u001b[38;5;28;01mas\u001b[39;00m e:\n",
      "File \u001b[1;32mc:\\Users\\CSK\\Documents\\coder\\NOx-with-TFT\\venv\\lib\\site-packages\\urllib3\\response.py:1057\u001b[0m, in \u001b[0;36mHTTPResponse.stream\u001b[1;34m(self, amt, decode_content)\u001b[0m\n\u001b[0;32m   1056\u001b[0m \u001b[38;5;28;01mif\u001b[39;00m \u001b[38;5;28mself\u001b[39m\u001b[38;5;241m.\u001b[39mchunked \u001b[38;5;129;01mand\u001b[39;00m \u001b[38;5;28mself\u001b[39m\u001b[38;5;241m.\u001b[39msupports_chunked_reads():\n\u001b[1;32m-> 1057\u001b[0m     \u001b[38;5;28;01myield from\u001b[39;00m \u001b[38;5;28mself\u001b[39m\u001b[38;5;241m.\u001b[39mread_chunked(amt, decode_content\u001b[38;5;241m=\u001b[39mdecode_content)\n\u001b[0;32m   1058\u001b[0m \u001b[38;5;28;01melse\u001b[39;00m:\n",
      "File \u001b[1;32mc:\\Users\\CSK\\Documents\\coder\\NOx-with-TFT\\venv\\lib\\site-packages\\urllib3\\response.py:1206\u001b[0m, in \u001b[0;36mHTTPResponse.read_chunked\u001b[1;34m(self, amt, decode_content)\u001b[0m\n\u001b[0;32m   1205\u001b[0m \u001b[38;5;28;01mwhile\u001b[39;00m \u001b[38;5;28;01mTrue\u001b[39;00m:\n\u001b[1;32m-> 1206\u001b[0m     \u001b[38;5;28;43mself\u001b[39;49m\u001b[38;5;241;43m.\u001b[39;49m\u001b[43m_update_chunk_length\u001b[49m\u001b[43m(\u001b[49m\u001b[43m)\u001b[49m\n\u001b[0;32m   1207\u001b[0m     \u001b[38;5;28;01mif\u001b[39;00m \u001b[38;5;28mself\u001b[39m\u001b[38;5;241m.\u001b[39mchunk_left \u001b[38;5;241m==\u001b[39m \u001b[38;5;241m0\u001b[39m:\n",
      "File \u001b[1;32mc:\\Users\\CSK\\Documents\\coder\\NOx-with-TFT\\venv\\lib\\site-packages\\urllib3\\response.py:1136\u001b[0m, in \u001b[0;36mHTTPResponse._update_chunk_length\u001b[1;34m(self)\u001b[0m\n\u001b[0;32m   1134\u001b[0m \u001b[38;5;28;01melse\u001b[39;00m:\n\u001b[0;32m   1135\u001b[0m     \u001b[38;5;66;03m# Truncated at start of next chunk\u001b[39;00m\n\u001b[1;32m-> 1136\u001b[0m     \u001b[38;5;28;01mraise\u001b[39;00m ProtocolError(\u001b[38;5;124m\"\u001b[39m\u001b[38;5;124mResponse ended prematurely\u001b[39m\u001b[38;5;124m\"\u001b[39m) \u001b[38;5;28;01mfrom\u001b[39;00m \u001b[38;5;28;01mNone\u001b[39;00m\n",
      "\u001b[1;31mProtocolError\u001b[0m: Response ended prematurely",
      "\nDuring handling of the above exception, another exception occurred:\n",
      "\u001b[1;31mChunkedEncodingError\u001b[0m                      Traceback (most recent call last)",
      "Cell \u001b[1;32mIn[4], line 18\u001b[0m\n\u001b[0;32m     14\u001b[0m save_file_path1 \u001b[38;5;241m=\u001b[39m \u001b[38;5;124mf\u001b[39m\u001b[38;5;124m'\u001b[39m\u001b[38;5;124m../data./tp/temp_21_b_\u001b[39m\u001b[38;5;132;01m{\u001b[39;00mi\u001b[38;5;132;01m}\u001b[39;00m\u001b[38;5;124m.csv\u001b[39m\u001b[38;5;124m'\u001b[39m\n\u001b[0;32m     17\u001b[0m \u001b[38;5;66;03m# 파일 다운로드 함수를 호출합니다.\u001b[39;00m\n\u001b[1;32m---> 18\u001b[0m \u001b[43mdownload_file\u001b[49m\u001b[43m(\u001b[49m\u001b[43murl\u001b[49m\u001b[43m,\u001b[49m\u001b[43m \u001b[49m\u001b[43msave_file_path\u001b[49m\u001b[43m)\u001b[49m\n\u001b[0;32m     19\u001b[0m download_file(url1, save_file_path1)\n\u001b[0;32m     21\u001b[0m \u001b[38;5;66;03m# print download state\u001b[39;00m\n",
      "Cell \u001b[1;32mIn[3], line 4\u001b[0m, in \u001b[0;36mdownload_file\u001b[1;34m(file_url, save_path)\u001b[0m\n\u001b[0;32m      2\u001b[0m \u001b[38;5;28;01mdef\u001b[39;00m \u001b[38;5;21mdownload_file\u001b[39m(file_url, save_path):\n\u001b[0;32m      3\u001b[0m     \u001b[38;5;28;01mwith\u001b[39;00m \u001b[38;5;28mopen\u001b[39m(save_path, \u001b[38;5;124m'\u001b[39m\u001b[38;5;124mwb\u001b[39m\u001b[38;5;124m'\u001b[39m) \u001b[38;5;28;01mas\u001b[39;00m f: \u001b[38;5;66;03m# 저장할 파일을 바이너리 쓰기 모드로 열기\u001b[39;00m\n\u001b[1;32m----> 4\u001b[0m         response \u001b[38;5;241m=\u001b[39m \u001b[43mrequests\u001b[49m\u001b[38;5;241;43m.\u001b[39;49m\u001b[43mget\u001b[49m\u001b[43m(\u001b[49m\u001b[43mfile_url\u001b[49m\u001b[43m)\u001b[49m \u001b[38;5;66;03m# 파일 URL에 GET 요청 보내기\u001b[39;00m\n\u001b[0;32m      5\u001b[0m         f\u001b[38;5;241m.\u001b[39mwrite(response\u001b[38;5;241m.\u001b[39mcontent)\n",
      "File \u001b[1;32mc:\\Users\\CSK\\Documents\\coder\\NOx-with-TFT\\venv\\lib\\site-packages\\requests\\api.py:73\u001b[0m, in \u001b[0;36mget\u001b[1;34m(url, params, **kwargs)\u001b[0m\n\u001b[0;32m     62\u001b[0m \u001b[38;5;28;01mdef\u001b[39;00m \u001b[38;5;21mget\u001b[39m(url, params\u001b[38;5;241m=\u001b[39m\u001b[38;5;28;01mNone\u001b[39;00m, \u001b[38;5;241m*\u001b[39m\u001b[38;5;241m*\u001b[39mkwargs):\n\u001b[0;32m     63\u001b[0m \u001b[38;5;250m    \u001b[39m\u001b[38;5;124mr\u001b[39m\u001b[38;5;124;03m\"\"\"Sends a GET request.\u001b[39;00m\n\u001b[0;32m     64\u001b[0m \n\u001b[0;32m     65\u001b[0m \u001b[38;5;124;03m    :param url: URL for the new :class:`Request` object.\u001b[39;00m\n\u001b[1;32m   (...)\u001b[0m\n\u001b[0;32m     70\u001b[0m \u001b[38;5;124;03m    :rtype: requests.Response\u001b[39;00m\n\u001b[0;32m     71\u001b[0m \u001b[38;5;124;03m    \"\"\"\u001b[39;00m\n\u001b[1;32m---> 73\u001b[0m     \u001b[38;5;28;01mreturn\u001b[39;00m request(\u001b[38;5;124m\"\u001b[39m\u001b[38;5;124mget\u001b[39m\u001b[38;5;124m\"\u001b[39m, url, params\u001b[38;5;241m=\u001b[39mparams, \u001b[38;5;241m*\u001b[39m\u001b[38;5;241m*\u001b[39mkwargs)\n",
      "File \u001b[1;32mc:\\Users\\CSK\\Documents\\coder\\NOx-with-TFT\\venv\\lib\\site-packages\\requests\\api.py:59\u001b[0m, in \u001b[0;36mrequest\u001b[1;34m(method, url, **kwargs)\u001b[0m\n\u001b[0;32m     55\u001b[0m \u001b[38;5;66;03m# By using the 'with' statement we are sure the session is closed, thus we\u001b[39;00m\n\u001b[0;32m     56\u001b[0m \u001b[38;5;66;03m# avoid leaving sockets open which can trigger a ResourceWarning in some\u001b[39;00m\n\u001b[0;32m     57\u001b[0m \u001b[38;5;66;03m# cases, and look like a memory leak in others.\u001b[39;00m\n\u001b[0;32m     58\u001b[0m \u001b[38;5;28;01mwith\u001b[39;00m sessions\u001b[38;5;241m.\u001b[39mSession() \u001b[38;5;28;01mas\u001b[39;00m session:\n\u001b[1;32m---> 59\u001b[0m     \u001b[38;5;28;01mreturn\u001b[39;00m session\u001b[38;5;241m.\u001b[39mrequest(method\u001b[38;5;241m=\u001b[39mmethod, url\u001b[38;5;241m=\u001b[39murl, \u001b[38;5;241m*\u001b[39m\u001b[38;5;241m*\u001b[39mkwargs)\n",
      "File \u001b[1;32mc:\\Users\\CSK\\Documents\\coder\\NOx-with-TFT\\venv\\lib\\site-packages\\requests\\sessions.py:589\u001b[0m, in \u001b[0;36mSession.request\u001b[1;34m(self, method, url, params, data, headers, cookies, files, auth, timeout, allow_redirects, proxies, hooks, stream, verify, cert, json)\u001b[0m\n\u001b[0;32m    584\u001b[0m send_kwargs \u001b[38;5;241m=\u001b[39m {\n\u001b[0;32m    585\u001b[0m     \u001b[38;5;124m\"\u001b[39m\u001b[38;5;124mtimeout\u001b[39m\u001b[38;5;124m\"\u001b[39m: timeout,\n\u001b[0;32m    586\u001b[0m     \u001b[38;5;124m\"\u001b[39m\u001b[38;5;124mallow_redirects\u001b[39m\u001b[38;5;124m\"\u001b[39m: allow_redirects,\n\u001b[0;32m    587\u001b[0m }\n\u001b[0;32m    588\u001b[0m send_kwargs\u001b[38;5;241m.\u001b[39mupdate(settings)\n\u001b[1;32m--> 589\u001b[0m resp \u001b[38;5;241m=\u001b[39m \u001b[38;5;28mself\u001b[39m\u001b[38;5;241m.\u001b[39msend(prep, \u001b[38;5;241m*\u001b[39m\u001b[38;5;241m*\u001b[39msend_kwargs)\n\u001b[0;32m    591\u001b[0m \u001b[38;5;28;01mreturn\u001b[39;00m resp\n",
      "File \u001b[1;32mc:\\Users\\CSK\\Documents\\coder\\NOx-with-TFT\\venv\\lib\\site-packages\\requests\\sessions.py:746\u001b[0m, in \u001b[0;36mSession.send\u001b[1;34m(self, request, **kwargs)\u001b[0m\n\u001b[0;32m    743\u001b[0m         \u001b[38;5;28;01mpass\u001b[39;00m\n\u001b[0;32m    745\u001b[0m \u001b[38;5;28;01mif\u001b[39;00m \u001b[38;5;129;01mnot\u001b[39;00m stream:\n\u001b[1;32m--> 746\u001b[0m     \u001b[43mr\u001b[49m\u001b[38;5;241;43m.\u001b[39;49m\u001b[43mcontent\u001b[49m\n\u001b[0;32m    748\u001b[0m \u001b[38;5;28;01mreturn\u001b[39;00m r\n",
      "File \u001b[1;32mc:\\Users\\CSK\\Documents\\coder\\NOx-with-TFT\\venv\\lib\\site-packages\\requests\\models.py:902\u001b[0m, in \u001b[0;36mResponse.content\u001b[1;34m(self)\u001b[0m\n\u001b[0;32m    900\u001b[0m         \u001b[38;5;28mself\u001b[39m\u001b[38;5;241m.\u001b[39m_content \u001b[38;5;241m=\u001b[39m \u001b[38;5;28;01mNone\u001b[39;00m\n\u001b[0;32m    901\u001b[0m     \u001b[38;5;28;01melse\u001b[39;00m:\n\u001b[1;32m--> 902\u001b[0m         \u001b[38;5;28mself\u001b[39m\u001b[38;5;241m.\u001b[39m_content \u001b[38;5;241m=\u001b[39m \u001b[38;5;124;43mb\u001b[39;49m\u001b[38;5;124;43m\"\u001b[39;49m\u001b[38;5;124;43m\"\u001b[39;49m\u001b[38;5;241;43m.\u001b[39;49m\u001b[43mjoin\u001b[49m\u001b[43m(\u001b[49m\u001b[38;5;28;43mself\u001b[39;49m\u001b[38;5;241;43m.\u001b[39;49m\u001b[43miter_content\u001b[49m\u001b[43m(\u001b[49m\u001b[43mCONTENT_CHUNK_SIZE\u001b[49m\u001b[43m)\u001b[49m\u001b[43m)\u001b[49m \u001b[38;5;129;01mor\u001b[39;00m \u001b[38;5;124mb\u001b[39m\u001b[38;5;124m\"\u001b[39m\u001b[38;5;124m\"\u001b[39m\n\u001b[0;32m    904\u001b[0m \u001b[38;5;28mself\u001b[39m\u001b[38;5;241m.\u001b[39m_content_consumed \u001b[38;5;241m=\u001b[39m \u001b[38;5;28;01mTrue\u001b[39;00m\n\u001b[0;32m    905\u001b[0m \u001b[38;5;66;03m# don't need to release the connection; that's been handled by urllib3\u001b[39;00m\n\u001b[0;32m    906\u001b[0m \u001b[38;5;66;03m# since we exhausted the data.\u001b[39;00m\n",
      "File \u001b[1;32mc:\\Users\\CSK\\Documents\\coder\\NOx-with-TFT\\venv\\lib\\site-packages\\requests\\models.py:822\u001b[0m, in \u001b[0;36mResponse.iter_content.<locals>.generate\u001b[1;34m()\u001b[0m\n\u001b[0;32m    820\u001b[0m     \u001b[38;5;28;01myield from\u001b[39;00m \u001b[38;5;28mself\u001b[39m\u001b[38;5;241m.\u001b[39mraw\u001b[38;5;241m.\u001b[39mstream(chunk_size, decode_content\u001b[38;5;241m=\u001b[39m\u001b[38;5;28;01mTrue\u001b[39;00m)\n\u001b[0;32m    821\u001b[0m \u001b[38;5;28;01mexcept\u001b[39;00m ProtocolError \u001b[38;5;28;01mas\u001b[39;00m e:\n\u001b[1;32m--> 822\u001b[0m     \u001b[38;5;28;01mraise\u001b[39;00m ChunkedEncodingError(e)\n\u001b[0;32m    823\u001b[0m \u001b[38;5;28;01mexcept\u001b[39;00m DecodeError \u001b[38;5;28;01mas\u001b[39;00m e:\n\u001b[0;32m    824\u001b[0m     \u001b[38;5;28;01mraise\u001b[39;00m ContentDecodingError(e)\n",
      "\u001b[1;31mChunkedEncodingError\u001b[0m: Response ended prematurely"
     ]
    }
   ],
   "source": [
    "#2021\n",
    "\n",
    "for i in tqdm(range(1,91)):\n",
    "    if i < 10:\n",
    "        url = f'https://apihub.kma.go.kr/api/typ01/cgi-bin/url/nph-aws2_min?tm1=2021010{i}0000&tm2=2021010{i}1159&stn=129&disp=1&help=1&authKey=2izc0OqiSVGs3NDqoqlR-A'\n",
    "        url1 =f'https://apihub.kma.go.kr/api/typ01/cgi-bin/url/nph-aws2_min?tm1=2021010{i}1200&tm2=2021010{i}2359&stn=129&disp=1&help=1&authKey=2izc0OqiSVGs3NDqoqlR-A'\n",
    "        \n",
    "    else:\n",
    "\n",
    "        url = f'https://apihub.kma.go.kr/api/typ01/cgi-bin/url/nph-aws2_min?tm1=202101{i}0000&tm2=202101{i}1159&stn=129&disp=1&help=1&authKey=2izc0OqiSVGs3NDqoqlR-A'\n",
    "        url1 =f'https://apihub.kma.go.kr/api/typ01/cgi-bin/url/nph-aws2_min?tm1=202101{i}1200&tm2=202101{i}2359&stn=129&disp=1&help=1&authKey=2izc0OqiSVGs3NDqoqlR-A'\n",
    "\n",
    "    save_file_path = f'../data./tp/temp_21_a_{i}.csv'\n",
    "    save_file_path1 = f'../data./tp/temp_21_b_{i}.csv'\n",
    "\n",
    "\n",
    "    # 파일 다운로드 함수를 호출합니다.\n",
    "    download_file(url, save_file_path)\n",
    "    download_file(url1, save_file_path1)\n",
    "    \n",
    "    # print download state\n",
    "    print('Download complete\\n')\n",
    "    \n",
    "    temp_a = pd.read_csv(f'../data./tp/temp_21_a_{i}.csv', \n",
    "                         header=None, \n",
    "                         encoding='cp949', skiprows=22)\n",
    "    \n",
    "    temp_b = pd.read_csv(f'../data./tp/temp_21_b_{i}.csv', \n",
    "                         header=None, \n",
    "                         encoding='cp949', skiprows=22)\n",
    "    \n",
    "    # Remove last row (END command)\n",
    "    temp_a.drop(len(temp_a)-1, inplace=True)\n",
    "    temp_b.drop(len(temp_b)-1, inplace=True)\n",
    "    \n",
    "    temp = pd.concat([temp, temp_a, temp_b])\n",
    "    \n",
    "for i in tqdm(range(1,92)):\n",
    "    if i < 10:\n",
    "        url = f'https://apihub.kma.go.kr/api/typ01/cgi-bin/url/nph-aws2_min?tm1=2021040{i}0000&tm2=2021040{i}1159&stn=129&disp=1&help=1&authKey=2izc0OqiSVGs3NDqoqlR-A'\n",
    "        url1 =f'https://apihub.kma.go.kr/api/typ01/cgi-bin/url/nph-aws2_min?tm1=2021040{i}1200&tm2=2021040{i}2359&stn=129&disp=1&help=1&authKey=2izc0OqiSVGs3NDqoqlR-A'\n",
    "        \n",
    "    else:\n",
    "\n",
    "        url = f'https://apihub.kma.go.kr/api/typ01/cgi-bin/url/nph-aws2_min?tm1=202104{i}0000&tm2=202104{i}1159&stn=129&disp=1&help=1&authKey=2izc0OqiSVGs3NDqoqlR-A'\n",
    "        url1 =f'https://apihub.kma.go.kr/api/typ01/cgi-bin/url/nph-aws2_min?tm1=202104{i}1200&tm2=202104{i}2359&stn=129&disp=1&help=1&authKey=2izc0OqiSVGs3NDqoqlR-A'\n",
    "\n",
    "    save_file_path = f'../data./tp/temp_21_c_{i}.csv'\n",
    "    save_file_path1 = f'../data./tp/temp_21_d_{i}.csv'\n",
    "\n",
    "\n",
    "    # 파일 다운로드 함수를 호출합니다.\n",
    "    download_file(url, save_file_path)\n",
    "    download_file(url1, save_file_path1)\n",
    "    \n",
    "    # print download state\n",
    "    print('Download complete\\n')\n",
    "    \n",
    "    temp_a = pd.read_csv(f'../data./tp/temp_21_c_{i}.csv', \n",
    "                         header=None, \n",
    "                         encoding='cp949', skiprows=22)\n",
    "    \n",
    "    temp_b = pd.read_csv(f'../data./tp/temp_21_d_{i}.csv', \n",
    "                         header=None, \n",
    "                         encoding='cp949', skiprows=22)\n",
    "    \n",
    "    # Remove last row (END command)\n",
    "    temp_a.drop(len(temp_a)-1, inplace=True)\n",
    "    temp_b.drop(len(temp_b)-1, inplace=True)\n",
    "    \n",
    "    temp = pd.concat([temp, temp_a, temp_b])\n",
    "\n",
    "for i in tqdm(range(1,93)):\n",
    "    if i < 10:\n",
    "        url = f'https://apihub.kma.go.kr/api/typ01/cgi-bin/url/nph-aws2_min?tm1=2021070{i}0000&tm2=2021070{i}1159&stn=129&disp=1&help=1&authKey=2izc0OqiSVGs3NDqoqlR-A'\n",
    "        url1 =f'https://apihub.kma.go.kr/api/typ01/cgi-bin/url/nph-aws2_min?tm1=2021070{i}1200&tm2=2021070{i}2359&stn=129&disp=1&help=1&authKey=2izc0OqiSVGs3NDqoqlR-A'\n",
    "        \n",
    "    else:\n",
    "\n",
    "        url = f'https://apihub.kma.go.kr/api/typ01/cgi-bin/url/nph-aws2_min?tm1=202107{i}0000&tm2=202107{i}1159&stn=129&disp=1&help=1&authKey=2izc0OqiSVGs3NDqoqlR-A'\n",
    "        url1 =f'https://apihub.kma.go.kr/api/typ01/cgi-bin/url/nph-aws2_min?tm1=202107{i}1200&tm2=202107{i}2359&stn=129&disp=1&help=1&authKey=2izc0OqiSVGs3NDqoqlR-A'\n",
    "\n",
    "    save_file_path = f'../data./tp/temp_21_e_{i}.csv'\n",
    "    save_file_path1 = f'../data./tp/temp_21_f_{i}.csv'\n",
    "\n",
    "\n",
    "    # 파일 다운로드 함수를 호출합니다.\n",
    "    download_file(url, save_file_path)\n",
    "    download_file(url1, save_file_path1)\n",
    "    \n",
    "    # print download state\n",
    "    print('Download complete\\n')\n",
    "    \n",
    "    temp_a = pd.read_csv(f'../data./tp/temp_21_e_{i}.csv', \n",
    "                         header=None, \n",
    "                         encoding='cp949', skiprows=22)\n",
    "    \n",
    "    temp_b = pd.read_csv(f'../data./tp/temp_21_f_{i}.csv', \n",
    "                         header=None, \n",
    "                         encoding='cp949', skiprows=22)\n",
    "    \n",
    "    # Remove last row (END command)\n",
    "    temp_a.drop(len(temp_a)-1, inplace=True)\n",
    "    temp_b.drop(len(temp_b)-1, inplace=True)\n",
    "    \n",
    "    temp = pd.concat([temp, temp_a, temp_b])\n",
    "    \n",
    "for i in tqdm(range(1,92)):\n",
    "    if i < 10:\n",
    "        url = f'https://apihub.kma.go.kr/api/typ01/cgi-bin/url/nph-aws2_min?tm1=2021100{i}0000&tm2=2021100{i}1159&stn=129&disp=1&help=1&authKey=2izc0OqiSVGs3NDqoqlR-A'\n",
    "        url1 =f'https://apihub.kma.go.kr/api/typ01/cgi-bin/url/nph-aws2_min?tm1=2021100{i}1200&tm2=2021100{i}2359&stn=129&disp=1&help=1&authKey=2izc0OqiSVGs3NDqoqlR-A'\n",
    "        \n",
    "    else:\n",
    "\n",
    "        url = f'https://apihub.kma.go.kr/api/typ01/cgi-bin/url/nph-aws2_min?tm1=202110{i}0000&tm2=202110{i}1159&stn=129&disp=1&help=1&authKey=2izc0OqiSVGs3NDqoqlR-A'\n",
    "        url1 =f'https://apihub.kma.go.kr/api/typ01/cgi-bin/url/nph-aws2_min?tm1=202110{i}1200&tm2=202110{i}2359&stn=129&disp=1&help=1&authKey=2izc0OqiSVGs3NDqoqlR-A'\n",
    "\n",
    "    save_file_path = f'../data./tp/temp_21_g_{i}.csv'\n",
    "    save_file_path1 = f'../data./tp/temp_21_h_{i}.csv'\n",
    "\n",
    "\n",
    "    # 파일 다운로드 함수를 호출합니다.\n",
    "    download_file(url, save_file_path)\n",
    "    download_file(url1, save_file_path1)\n",
    "    \n",
    "    # print download state\n",
    "    print('Download complete\\n')\n",
    "    \n",
    "    temp_a = pd.read_csv(f'../data./tp/temp_21_g_{i}.csv', \n",
    "                         header=None, \n",
    "                         encoding='cp949', skiprows=22)\n",
    "    \n",
    "    temp_b = pd.read_csv(f'../data./tp/temp_21_h_{i}.csv', \n",
    "                         header=None, \n",
    "                         encoding='cp949', skiprows=22)\n",
    "    \n",
    "    # Remove last row (END command)\n",
    "    temp_a.drop(len(temp_a)-1, inplace=True)\n",
    "    temp_b.drop(len(temp_b)-1, inplace=True)\n",
    "    \n",
    "    temp = pd.concat([temp, temp_a, temp_b])\n",
    "\n",
    "  "
   ]
  },
  {
   "cell_type": "code",
   "execution_count": null,
   "metadata": {},
   "outputs": [],
   "source": [
    "#2022\n",
    "\n",
    "for i in tqdm(range(1,91)):\n",
    "    if i < 10:\n",
    "        url = f'https://apihub.kma.go.kr/api/typ01/cgi-bin/url/nph-aws2_min?tm1=2022010{i}0000&tm2=2022010{i}1159&stn=129&disp=1&help=1&authKey=2izc0OqiSVGs3NDqoqlR-A'\n",
    "        url1 =f'https://apihub.kma.go.kr/api/typ01/cgi-bin/url/nph-aws2_min?tm1=2022010{i}1200&tm2=2022010{i}2359&stn=129&disp=1&help=1&authKey=2izc0OqiSVGs3NDqoqlR-A'\n",
    "        \n",
    "    else:\n",
    "\n",
    "        url = f'https://apihub.kma.go.kr/api/typ01/cgi-bin/url/nph-aws2_min?tm1=202201{i}0000&tm2=202201{i}1159&stn=129&disp=1&help=1&authKey=2izc0OqiSVGs3NDqoqlR-A'\n",
    "        url1 =f'https://apihub.kma.go.kr/api/typ01/cgi-bin/url/nph-aws2_min?tm1=202201{i}1200&tm2=202201{i}2359&stn=129&disp=1&help=1&authKey=2izc0OqiSVGs3NDqoqlR-A'\n",
    "\n",
    "    save_file_path = f'../data./tp/temp_22_a_{i}.csv'\n",
    "    save_file_path1 = f'../data./tp/temp_22_b_{i}.csv'\n",
    "\n",
    "\n",
    "    # 파일 다운로드 함수를 호출합니다.\n",
    "    download_file(url, save_file_path)\n",
    "    download_file(url1, save_file_path1)\n",
    "    \n",
    "    # print download state\n",
    "    print('Download complete\\n')\n",
    "    \n",
    "    temp_a = pd.read_csv(f'../data./tp/temp_22_a_{i}.csv', \n",
    "                         header=None, \n",
    "                         encoding='cp949', skiprows=22)\n",
    "    \n",
    "    temp_b = pd.read_csv(f'../data./tp/temp_22_b_{i}.csv', \n",
    "                         header=None, \n",
    "                         encoding='cp949', skiprows=22)\n",
    "    \n",
    "    # Remove last row (END command)\n",
    "    temp_a.drop(len(temp_a)-1, inplace=True)\n",
    "    temp_b.drop(len(temp_b)-1, inplace=True)\n",
    "    \n",
    "    temp = pd.concat([temp, temp_a, temp_b])"
   ]
  },
  {
   "cell_type": "code",
   "execution_count": null,
   "metadata": {},
   "outputs": [],
   "source": [
    "column_name = ['date','id','wd1','ws1','wds','wss','wd10','ws10','ta','re','rn-15m','rn-60m','rn-12h','rn-day','hm','pa','ps','td','etc']\n",
    "temp.columns=column_name\n",
    "temp.drop('etc', axis=1, inplace=True)"
   ]
  },
  {
   "cell_type": "code",
   "execution_count": null,
   "metadata": {},
   "outputs": [],
   "source": [
    "temp.date = pd.to_datetime(temp.date)\n",
    "temp.reset_index(drop=True, inplace=True)"
   ]
  },
  {
   "cell_type": "code",
   "execution_count": null,
   "metadata": {},
   "outputs": [],
   "source": [
    "temp.to_csv('../data/temp_201910_202203.csv', index=False)\n"
   ]
  },
  {
   "cell_type": "code",
   "execution_count": null,
   "metadata": {},
   "outputs": [],
   "source": [
    "df = pd.read_csv('../data/temp_201910_202203.csv.csv')"
   ]
  },
  {
   "cell_type": "code",
   "execution_count": null,
   "metadata": {},
   "outputs": [],
   "source": [
    "temp1 = df.iloc[:,[0,8,14]]"
   ]
  },
  {
   "cell_type": "code",
   "execution_count": null,
   "metadata": {},
   "outputs": [],
   "source": [
    "temp1.to_csv('../data/temp1.csv', index=False)\n"
   ]
  }
 ],
 "metadata": {
  "kernelspec": {
   "display_name": "venv",
   "language": "python",
   "name": "python3"
  },
  "language_info": {
   "codemirror_mode": {
    "name": "ipython",
    "version": 3
   },
   "file_extension": ".py",
   "mimetype": "text/x-python",
   "name": "python",
   "nbconvert_exporter": "python",
   "pygments_lexer": "ipython3",
   "version": "3.10.11"
  }
 },
 "nbformat": 4,
 "nbformat_minor": 2
}
