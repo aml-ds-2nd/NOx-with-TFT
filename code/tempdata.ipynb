{
 "cells": [
  {
   "cell_type": "code",
   "execution_count": 2,
   "metadata": {},
   "outputs": [],
   "source": [
    "import pandas as pd\n",
    "import numpy as np\n",
    "import seaborn as sns\n",
    "from tqdm import tqdm\n",
    "\n",
    "import requests  # requests 모듈 임포트"
   ]
  },
  {
   "cell_type": "code",
   "execution_count": 2,
   "metadata": {},
   "outputs": [
    {
     "name": "stderr",
     "output_type": "stream",
     "text": [
      "  3%|▎         | 1/31 [00:04<02:14,  4.48s/it]"
     ]
    },
    {
     "name": "stdout",
     "output_type": "stream",
     "text": [
      "Download complete\n",
      "\n"
     ]
    },
    {
     "name": "stderr",
     "output_type": "stream",
     "text": [
      "  6%|▋         | 2/31 [00:24<06:38, 13.76s/it]"
     ]
    },
    {
     "name": "stdout",
     "output_type": "stream",
     "text": [
      "Download complete\n",
      "\n"
     ]
    },
    {
     "name": "stderr",
     "output_type": "stream",
     "text": [
      " 10%|▉         | 3/31 [01:04<12:03, 25.85s/it]"
     ]
    },
    {
     "name": "stdout",
     "output_type": "stream",
     "text": [
      "Download complete\n",
      "\n"
     ]
    },
    {
     "name": "stderr",
     "output_type": "stream",
     "text": [
      " 13%|█▎        | 4/31 [01:43<13:55, 30.96s/it]"
     ]
    },
    {
     "name": "stdout",
     "output_type": "stream",
     "text": [
      "Download complete\n",
      "\n"
     ]
    },
    {
     "name": "stderr",
     "output_type": "stream",
     "text": [
      " 16%|█▌        | 5/31 [02:23<14:48, 34.18s/it]"
     ]
    },
    {
     "name": "stdout",
     "output_type": "stream",
     "text": [
      "Download complete\n",
      "\n"
     ]
    },
    {
     "name": "stderr",
     "output_type": "stream",
     "text": [
      " 19%|█▉        | 6/31 [03:03<14:59, 35.99s/it]"
     ]
    },
    {
     "name": "stdout",
     "output_type": "stream",
     "text": [
      "Download complete\n",
      "\n"
     ]
    },
    {
     "name": "stderr",
     "output_type": "stream",
     "text": [
      " 23%|██▎       | 7/31 [03:42<14:50, 37.09s/it]"
     ]
    },
    {
     "name": "stdout",
     "output_type": "stream",
     "text": [
      "Download complete\n",
      "\n"
     ]
    },
    {
     "name": "stderr",
     "output_type": "stream",
     "text": [
      " 26%|██▌       | 8/31 [04:22<14:33, 37.96s/it]"
     ]
    },
    {
     "name": "stdout",
     "output_type": "stream",
     "text": [
      "Download complete\n",
      "\n"
     ]
    },
    {
     "name": "stderr",
     "output_type": "stream",
     "text": [
      " 29%|██▉       | 9/31 [05:01<14:02, 38.29s/it]"
     ]
    },
    {
     "name": "stdout",
     "output_type": "stream",
     "text": [
      "Download complete\n",
      "\n"
     ]
    },
    {
     "name": "stderr",
     "output_type": "stream",
     "text": [
      " 32%|███▏      | 10/31 [05:40<13:26, 38.42s/it]"
     ]
    },
    {
     "name": "stdout",
     "output_type": "stream",
     "text": [
      "Download complete\n",
      "\n"
     ]
    },
    {
     "name": "stderr",
     "output_type": "stream",
     "text": [
      " 35%|███▌      | 11/31 [06:19<12:52, 38.61s/it]"
     ]
    },
    {
     "name": "stdout",
     "output_type": "stream",
     "text": [
      "Download complete\n",
      "\n"
     ]
    },
    {
     "name": "stderr",
     "output_type": "stream",
     "text": [
      " 39%|███▊      | 12/31 [06:58<12:20, 39.00s/it]"
     ]
    },
    {
     "name": "stdout",
     "output_type": "stream",
     "text": [
      "Download complete\n",
      "\n"
     ]
    },
    {
     "name": "stderr",
     "output_type": "stream",
     "text": [
      " 42%|████▏     | 13/31 [07:37<11:41, 38.98s/it]"
     ]
    },
    {
     "name": "stdout",
     "output_type": "stream",
     "text": [
      "Download complete\n",
      "\n"
     ]
    },
    {
     "name": "stderr",
     "output_type": "stream",
     "text": [
      " 45%|████▌     | 14/31 [08:17<11:04, 39.07s/it]"
     ]
    },
    {
     "name": "stdout",
     "output_type": "stream",
     "text": [
      "Download complete\n",
      "\n"
     ]
    }
   ],
   "source": [
    "def download_file(file_url, save_path):\n",
    "    with open(save_path, 'wb') as f: # 저장할 파일을 바이너리 쓰기 모드로 열기\n",
    "        response = requests.get(file_url) # 파일 URL에 GET 요청 보내기\n",
    "        f.write(response.content) # 응답의 내용을 파일에 쓰기\n",
    "\n",
    "temp=pd.DataFrame()\n",
    "\n",
    "for i in tqdm(range(1,32)):\n",
    "    if i < 10:\n",
    "        url = f'https://apihub.kma.go.kr/api/typ01/cgi-bin/url/nph-aws2_min?tm1=2022010{i}0000&tm2=2022010{i}1159&stn=129&disp=1&help=1&authKey=2izc0OqiSVGs3NDqoqlR-A'\n",
    "        url1 =f'https://apihub.kma.go.kr/api/typ01/cgi-bin/url/nph-aws2_min?tm1=2022010{i}1200&tm2=2022010{i}2359&stn=129&disp=1&help=1&authKey=2izc0OqiSVGs3NDqoqlR-A'\n",
    "        \n",
    "    else:\n",
    "\n",
    "        url = f'https://apihub.kma.go.kr/api/typ01/cgi-bin/url/nph-aws2_min?tm1=202201{i}0000&tm2=202201{i}1159&stn=129&disp=1&help=1&authKey=2izc0OqiSVGs3NDqoqlR-A'\n",
    "        url1 =f'https://apihub.kma.go.kr/api/typ01/cgi-bin/url/nph-aws2_min?tm1=202201{i}1200&tm2=202201{i}2359&stn=129&disp=1&help=1&authKey=2izc0OqiSVGs3NDqoqlR-A'\n",
    "\n",
    "    save_file_path = f'../data./tp/temp_a_{i}.csv'\n",
    "    save_file_path1 = f'../data./tp/temp_b_{i}.csv'\n",
    "\n",
    "\n",
    "    # 파일 다운로드 함수를 호출합니다.\n",
    "    download_file(url, save_file_path)\n",
    "    download_file(url1, save_file_path1)\n",
    "    \n",
    "    # print download state\n",
    "    print('Download complete\\n')\n",
    "    \n",
    "    temp_a = pd.read_csv(f'../data./tp/temp_a_{i}.csv', \n",
    "                         header=None, \n",
    "                         encoding='cp949', skiprows=22)\n",
    "    \n",
    "    temp_b = pd.read_csv(f'../data./tp/temp_b_{i}.csv', \n",
    "                         header=None, \n",
    "                         encoding='cp949', skiprows=22)\n",
    "    \n",
    "    # Remove last row (END command)\n",
    "    temp_a.drop(len(temp_a)-1, inplace=True)\n",
    "    temp_b.drop(len(temp_b)-1, inplace=True)\n",
    "    \n",
    "    if i == 1:\n",
    "        temp = pd.concat([temp, temp_a])\n",
    "        temp = pd.concat([temp, temp_b])\n",
    "    \n",
    "    else:\n",
    "        temp = pd.concat([temp, temp_a, temp_b])\n",
    "  "
   ]
  },
  {
   "cell_type": "code",
   "execution_count": null,
   "metadata": {},
   "outputs": [
    {
     "data": {
      "text/html": [
       "<div>\n",
       "<style scoped>\n",
       "    .dataframe tbody tr th:only-of-type {\n",
       "        vertical-align: middle;\n",
       "    }\n",
       "\n",
       "    .dataframe tbody tr th {\n",
       "        vertical-align: top;\n",
       "    }\n",
       "\n",
       "    .dataframe thead th {\n",
       "        text-align: right;\n",
       "    }\n",
       "</style>\n",
       "<table border=\"1\" class=\"dataframe\">\n",
       "  <thead>\n",
       "    <tr style=\"text-align: right;\">\n",
       "      <th></th>\n",
       "      <th>0</th>\n",
       "      <th>1</th>\n",
       "      <th>2</th>\n",
       "      <th>3</th>\n",
       "      <th>4</th>\n",
       "      <th>5</th>\n",
       "      <th>6</th>\n",
       "      <th>7</th>\n",
       "      <th>8</th>\n",
       "      <th>9</th>\n",
       "      <th>10</th>\n",
       "      <th>11</th>\n",
       "      <th>12</th>\n",
       "      <th>13</th>\n",
       "      <th>14</th>\n",
       "      <th>15</th>\n",
       "      <th>16</th>\n",
       "      <th>17</th>\n",
       "      <th>18</th>\n",
       "    </tr>\n",
       "  </thead>\n",
       "  <tbody>\n",
       "    <tr>\n",
       "      <th>0</th>\n",
       "      <td>202201010000</td>\n",
       "      <td>129.0</td>\n",
       "      <td>139.4</td>\n",
       "      <td>0.0</td>\n",
       "      <td>145.9</td>\n",
       "      <td>0.8</td>\n",
       "      <td>145.5</td>\n",
       "      <td>1.4</td>\n",
       "      <td>-9.1</td>\n",
       "      <td>0.0</td>\n",
       "      <td>0.0</td>\n",
       "      <td>0.0</td>\n",
       "      <td>0.0</td>\n",
       "      <td>0.0</td>\n",
       "      <td>76.7</td>\n",
       "      <td>1030.4</td>\n",
       "      <td>1033.8</td>\n",
       "      <td>-12.4</td>\n",
       "      <td>=</td>\n",
       "    </tr>\n",
       "    <tr>\n",
       "      <th>1</th>\n",
       "      <td>202201010001</td>\n",
       "      <td>129.0</td>\n",
       "      <td>155.8</td>\n",
       "      <td>0.0</td>\n",
       "      <td>167.6</td>\n",
       "      <td>0.1</td>\n",
       "      <td>142.7</td>\n",
       "      <td>1.2</td>\n",
       "      <td>-9.1</td>\n",
       "      <td>0.0</td>\n",
       "      <td>0.0</td>\n",
       "      <td>0.0</td>\n",
       "      <td>0.0</td>\n",
       "      <td>0.0</td>\n",
       "      <td>76.3</td>\n",
       "      <td>1030.3</td>\n",
       "      <td>1033.7</td>\n",
       "      <td>-12.5</td>\n",
       "      <td>=</td>\n",
       "    </tr>\n",
       "    <tr>\n",
       "      <th>2</th>\n",
       "      <td>202201010002</td>\n",
       "      <td>129.0</td>\n",
       "      <td>154.7</td>\n",
       "      <td>0.0</td>\n",
       "      <td>0.0</td>\n",
       "      <td>0.0</td>\n",
       "      <td>140.3</td>\n",
       "      <td>0.9</td>\n",
       "      <td>-9.1</td>\n",
       "      <td>0.0</td>\n",
       "      <td>0.0</td>\n",
       "      <td>0.0</td>\n",
       "      <td>0.0</td>\n",
       "      <td>0.0</td>\n",
       "      <td>76.1</td>\n",
       "      <td>1030.3</td>\n",
       "      <td>1033.7</td>\n",
       "      <td>-12.5</td>\n",
       "      <td>=</td>\n",
       "    </tr>\n",
       "    <tr>\n",
       "      <th>3</th>\n",
       "      <td>202201010003</td>\n",
       "      <td>129.0</td>\n",
       "      <td>301.9</td>\n",
       "      <td>0.0</td>\n",
       "      <td>0.0</td>\n",
       "      <td>0.0</td>\n",
       "      <td>138.2</td>\n",
       "      <td>0.7</td>\n",
       "      <td>-9.1</td>\n",
       "      <td>0.0</td>\n",
       "      <td>0.0</td>\n",
       "      <td>0.0</td>\n",
       "      <td>0.0</td>\n",
       "      <td>0.0</td>\n",
       "      <td>76.1</td>\n",
       "      <td>1030.3</td>\n",
       "      <td>1033.7</td>\n",
       "      <td>-12.5</td>\n",
       "      <td>=</td>\n",
       "    </tr>\n",
       "    <tr>\n",
       "      <th>4</th>\n",
       "      <td>202201010004</td>\n",
       "      <td>129.0</td>\n",
       "      <td>260.0</td>\n",
       "      <td>0.0</td>\n",
       "      <td>0.0</td>\n",
       "      <td>0.0</td>\n",
       "      <td>135.5</td>\n",
       "      <td>0.5</td>\n",
       "      <td>-9.1</td>\n",
       "      <td>0.0</td>\n",
       "      <td>0.0</td>\n",
       "      <td>0.0</td>\n",
       "      <td>0.0</td>\n",
       "      <td>0.0</td>\n",
       "      <td>76.1</td>\n",
       "      <td>1030.3</td>\n",
       "      <td>1033.7</td>\n",
       "      <td>-12.5</td>\n",
       "      <td>=</td>\n",
       "    </tr>\n",
       "    <tr>\n",
       "      <th>...</th>\n",
       "      <td>...</td>\n",
       "      <td>...</td>\n",
       "      <td>...</td>\n",
       "      <td>...</td>\n",
       "      <td>...</td>\n",
       "      <td>...</td>\n",
       "      <td>...</td>\n",
       "      <td>...</td>\n",
       "      <td>...</td>\n",
       "      <td>...</td>\n",
       "      <td>...</td>\n",
       "      <td>...</td>\n",
       "      <td>...</td>\n",
       "      <td>...</td>\n",
       "      <td>...</td>\n",
       "      <td>...</td>\n",
       "      <td>...</td>\n",
       "      <td>...</td>\n",
       "      <td>...</td>\n",
       "    </tr>\n",
       "    <tr>\n",
       "      <th>715</th>\n",
       "      <td>202201312355</td>\n",
       "      <td>129.0</td>\n",
       "      <td>123.1</td>\n",
       "      <td>0.0</td>\n",
       "      <td>135.2</td>\n",
       "      <td>0.7</td>\n",
       "      <td>175.1</td>\n",
       "      <td>0.6</td>\n",
       "      <td>-1.2</td>\n",
       "      <td>0.0</td>\n",
       "      <td>0.0</td>\n",
       "      <td>0.0</td>\n",
       "      <td>3.1</td>\n",
       "      <td>3.1</td>\n",
       "      <td>95.5</td>\n",
       "      <td>1020.5</td>\n",
       "      <td>1023.7</td>\n",
       "      <td>-1.8</td>\n",
       "      <td>=</td>\n",
       "    </tr>\n",
       "    <tr>\n",
       "      <th>716</th>\n",
       "      <td>202201312356</td>\n",
       "      <td>129.0</td>\n",
       "      <td>148.1</td>\n",
       "      <td>0.7</td>\n",
       "      <td>147.1</td>\n",
       "      <td>1.1</td>\n",
       "      <td>170.2</td>\n",
       "      <td>0.7</td>\n",
       "      <td>-1.2</td>\n",
       "      <td>0.0</td>\n",
       "      <td>0.0</td>\n",
       "      <td>0.0</td>\n",
       "      <td>3.1</td>\n",
       "      <td>3.1</td>\n",
       "      <td>95.8</td>\n",
       "      <td>1020.5</td>\n",
       "      <td>1023.7</td>\n",
       "      <td>-1.8</td>\n",
       "      <td>=</td>\n",
       "    </tr>\n",
       "    <tr>\n",
       "      <th>717</th>\n",
       "      <td>202201312357</td>\n",
       "      <td>129.0</td>\n",
       "      <td>155.4</td>\n",
       "      <td>0.4</td>\n",
       "      <td>163.8</td>\n",
       "      <td>1.2</td>\n",
       "      <td>167.9</td>\n",
       "      <td>0.7</td>\n",
       "      <td>-1.3</td>\n",
       "      <td>0.0</td>\n",
       "      <td>0.0</td>\n",
       "      <td>0.0</td>\n",
       "      <td>3.1</td>\n",
       "      <td>3.1</td>\n",
       "      <td>95.9</td>\n",
       "      <td>1020.6</td>\n",
       "      <td>1023.8</td>\n",
       "      <td>-1.9</td>\n",
       "      <td>=</td>\n",
       "    </tr>\n",
       "    <tr>\n",
       "      <th>718</th>\n",
       "      <td>202201312358</td>\n",
       "      <td>129.0</td>\n",
       "      <td>184.8</td>\n",
       "      <td>1.3</td>\n",
       "      <td>198.4</td>\n",
       "      <td>1.6</td>\n",
       "      <td>170.2</td>\n",
       "      <td>0.9</td>\n",
       "      <td>-1.3</td>\n",
       "      <td>0.0</td>\n",
       "      <td>0.0</td>\n",
       "      <td>0.0</td>\n",
       "      <td>3.1</td>\n",
       "      <td>3.1</td>\n",
       "      <td>95.9</td>\n",
       "      <td>1020.6</td>\n",
       "      <td>1023.8</td>\n",
       "      <td>-1.9</td>\n",
       "      <td>=</td>\n",
       "    </tr>\n",
       "    <tr>\n",
       "      <th>719</th>\n",
       "      <td>202201312359</td>\n",
       "      <td>129.0</td>\n",
       "      <td>197.8</td>\n",
       "      <td>1.2</td>\n",
       "      <td>193.3</td>\n",
       "      <td>1.3</td>\n",
       "      <td>170.9</td>\n",
       "      <td>0.8</td>\n",
       "      <td>-1.3</td>\n",
       "      <td>0.0</td>\n",
       "      <td>0.0</td>\n",
       "      <td>0.0</td>\n",
       "      <td>3.1</td>\n",
       "      <td>3.1</td>\n",
       "      <td>95.8</td>\n",
       "      <td>1020.6</td>\n",
       "      <td>1023.8</td>\n",
       "      <td>-1.9</td>\n",
       "      <td>=</td>\n",
       "    </tr>\n",
       "  </tbody>\n",
       "</table>\n",
       "<p>44640 rows × 19 columns</p>\n",
       "</div>"
      ],
      "text/plain": [
       "               0      1      2    3      4    5      6    7    8    9    10  \\\n",
       "0    202201010000  129.0  139.4  0.0  145.9  0.8  145.5  1.4 -9.1  0.0  0.0   \n",
       "1    202201010001  129.0  155.8  0.0  167.6  0.1  142.7  1.2 -9.1  0.0  0.0   \n",
       "2    202201010002  129.0  154.7  0.0    0.0  0.0  140.3  0.9 -9.1  0.0  0.0   \n",
       "3    202201010003  129.0  301.9  0.0    0.0  0.0  138.2  0.7 -9.1  0.0  0.0   \n",
       "4    202201010004  129.0  260.0  0.0    0.0  0.0  135.5  0.5 -9.1  0.0  0.0   \n",
       "..            ...    ...    ...  ...    ...  ...    ...  ...  ...  ...  ...   \n",
       "715  202201312355  129.0  123.1  0.0  135.2  0.7  175.1  0.6 -1.2  0.0  0.0   \n",
       "716  202201312356  129.0  148.1  0.7  147.1  1.1  170.2  0.7 -1.2  0.0  0.0   \n",
       "717  202201312357  129.0  155.4  0.4  163.8  1.2  167.9  0.7 -1.3  0.0  0.0   \n",
       "718  202201312358  129.0  184.8  1.3  198.4  1.6  170.2  0.9 -1.3  0.0  0.0   \n",
       "719  202201312359  129.0  197.8  1.2  193.3  1.3  170.9  0.8 -1.3  0.0  0.0   \n",
       "\n",
       "      11   12   13    14      15      16    17 18  \n",
       "0    0.0  0.0  0.0  76.7  1030.4  1033.8 -12.4  =  \n",
       "1    0.0  0.0  0.0  76.3  1030.3  1033.7 -12.5  =  \n",
       "2    0.0  0.0  0.0  76.1  1030.3  1033.7 -12.5  =  \n",
       "3    0.0  0.0  0.0  76.1  1030.3  1033.7 -12.5  =  \n",
       "4    0.0  0.0  0.0  76.1  1030.3  1033.7 -12.5  =  \n",
       "..   ...  ...  ...   ...     ...     ...   ... ..  \n",
       "715  0.0  3.1  3.1  95.5  1020.5  1023.7  -1.8  =  \n",
       "716  0.0  3.1  3.1  95.8  1020.5  1023.7  -1.8  =  \n",
       "717  0.0  3.1  3.1  95.9  1020.6  1023.8  -1.9  =  \n",
       "718  0.0  3.1  3.1  95.9  1020.6  1023.8  -1.9  =  \n",
       "719  0.0  3.1  3.1  95.8  1020.6  1023.8  -1.9  =  \n",
       "\n",
       "[44640 rows x 19 columns]"
      ]
     },
     "execution_count": 5,
     "metadata": {},
     "output_type": "execute_result"
    }
   ],
   "source": [
    "temp.to_csv('../data/imsi_jan_.csv')\n",
    "temp"
   ]
  },
  {
   "cell_type": "code",
   "execution_count": null,
   "metadata": {},
   "outputs": [
    {
     "name": "stderr",
     "output_type": "stream",
     "text": [
      "  4%|▎         | 1/28 [00:40<18:17, 40.65s/it]"
     ]
    },
    {
     "name": "stdout",
     "output_type": "stream",
     "text": [
      "Download complete\n",
      "\n"
     ]
    },
    {
     "name": "stderr",
     "output_type": "stream",
     "text": [
      "  7%|▋         | 2/28 [01:22<17:56, 41.41s/it]"
     ]
    },
    {
     "name": "stdout",
     "output_type": "stream",
     "text": [
      "Download complete\n",
      "\n"
     ]
    },
    {
     "name": "stderr",
     "output_type": "stream",
     "text": [
      " 11%|█         | 3/28 [02:03<17:11, 41.25s/it]"
     ]
    },
    {
     "name": "stdout",
     "output_type": "stream",
     "text": [
      "Download complete\n",
      "\n"
     ]
    },
    {
     "name": "stderr",
     "output_type": "stream",
     "text": [
      " 14%|█▍        | 4/28 [02:44<16:25, 41.06s/it]"
     ]
    },
    {
     "name": "stdout",
     "output_type": "stream",
     "text": [
      "Download complete\n",
      "\n"
     ]
    },
    {
     "name": "stderr",
     "output_type": "stream",
     "text": [
      " 18%|█▊        | 5/28 [03:25<15:45, 41.09s/it]"
     ]
    },
    {
     "name": "stdout",
     "output_type": "stream",
     "text": [
      "Download complete\n",
      "\n"
     ]
    },
    {
     "name": "stderr",
     "output_type": "stream",
     "text": [
      " 21%|██▏       | 6/28 [04:07<15:06, 41.23s/it]"
     ]
    },
    {
     "name": "stdout",
     "output_type": "stream",
     "text": [
      "Download complete\n",
      "\n"
     ]
    },
    {
     "name": "stderr",
     "output_type": "stream",
     "text": [
      " 25%|██▌       | 7/28 [04:49<14:31, 41.48s/it]"
     ]
    },
    {
     "name": "stdout",
     "output_type": "stream",
     "text": [
      "Download complete\n",
      "\n"
     ]
    },
    {
     "name": "stderr",
     "output_type": "stream",
     "text": [
      " 29%|██▊       | 8/28 [05:30<13:46, 41.33s/it]"
     ]
    },
    {
     "name": "stdout",
     "output_type": "stream",
     "text": [
      "Download complete\n",
      "\n"
     ]
    },
    {
     "name": "stderr",
     "output_type": "stream",
     "text": [
      " 32%|███▏      | 9/28 [06:11<13:06, 41.37s/it]"
     ]
    },
    {
     "name": "stdout",
     "output_type": "stream",
     "text": [
      "Download complete\n",
      "\n"
     ]
    },
    {
     "name": "stderr",
     "output_type": "stream",
     "text": [
      " 36%|███▌      | 10/28 [06:53<12:30, 41.68s/it]"
     ]
    },
    {
     "name": "stdout",
     "output_type": "stream",
     "text": [
      "Download complete\n",
      "\n"
     ]
    },
    {
     "name": "stderr",
     "output_type": "stream",
     "text": [
      " 39%|███▉      | 11/28 [07:35<11:48, 41.67s/it]"
     ]
    },
    {
     "name": "stdout",
     "output_type": "stream",
     "text": [
      "Download complete\n",
      "\n"
     ]
    },
    {
     "name": "stderr",
     "output_type": "stream",
     "text": [
      " 43%|████▎     | 12/28 [08:17<11:06, 41.63s/it]"
     ]
    },
    {
     "name": "stdout",
     "output_type": "stream",
     "text": [
      "Download complete\n",
      "\n"
     ]
    },
    {
     "name": "stderr",
     "output_type": "stream",
     "text": [
      " 46%|████▋     | 13/28 [08:57<10:20, 41.33s/it]"
     ]
    },
    {
     "name": "stdout",
     "output_type": "stream",
     "text": [
      "Download complete\n",
      "\n"
     ]
    },
    {
     "name": "stderr",
     "output_type": "stream",
     "text": [
      " 50%|█████     | 14/28 [09:38<09:35, 41.12s/it]"
     ]
    },
    {
     "name": "stdout",
     "output_type": "stream",
     "text": [
      "Download complete\n",
      "\n"
     ]
    },
    {
     "name": "stderr",
     "output_type": "stream",
     "text": [
      " 54%|█████▎    | 15/28 [10:19<08:55, 41.17s/it]"
     ]
    },
    {
     "name": "stdout",
     "output_type": "stream",
     "text": [
      "Download complete\n",
      "\n"
     ]
    },
    {
     "name": "stderr",
     "output_type": "stream",
     "text": [
      " 57%|█████▋    | 16/28 [10:59<08:08, 40.73s/it]"
     ]
    },
    {
     "name": "stdout",
     "output_type": "stream",
     "text": [
      "Download complete\n",
      "\n"
     ]
    },
    {
     "name": "stderr",
     "output_type": "stream",
     "text": [
      " 61%|██████    | 17/28 [11:39<07:24, 40.41s/it]"
     ]
    },
    {
     "name": "stdout",
     "output_type": "stream",
     "text": [
      "Download complete\n",
      "\n"
     ]
    },
    {
     "name": "stderr",
     "output_type": "stream",
     "text": [
      " 64%|██████▍   | 18/28 [12:20<06:46, 40.69s/it]"
     ]
    },
    {
     "name": "stdout",
     "output_type": "stream",
     "text": [
      "Download complete\n",
      "\n"
     ]
    },
    {
     "name": "stderr",
     "output_type": "stream",
     "text": [
      " 68%|██████▊   | 19/28 [13:00<06:04, 40.45s/it]"
     ]
    },
    {
     "name": "stdout",
     "output_type": "stream",
     "text": [
      "Download complete\n",
      "\n"
     ]
    },
    {
     "name": "stderr",
     "output_type": "stream",
     "text": [
      " 71%|███████▏  | 20/28 [13:40<05:23, 40.43s/it]"
     ]
    },
    {
     "name": "stdout",
     "output_type": "stream",
     "text": [
      "Download complete\n",
      "\n"
     ]
    },
    {
     "name": "stderr",
     "output_type": "stream",
     "text": [
      " 75%|███████▌  | 21/28 [14:21<04:43, 40.44s/it]"
     ]
    },
    {
     "name": "stdout",
     "output_type": "stream",
     "text": [
      "Download complete\n",
      "\n"
     ]
    },
    {
     "name": "stderr",
     "output_type": "stream",
     "text": [
      " 79%|███████▊  | 22/28 [15:01<04:03, 40.55s/it]"
     ]
    },
    {
     "name": "stdout",
     "output_type": "stream",
     "text": [
      "Download complete\n",
      "\n"
     ]
    },
    {
     "name": "stderr",
     "output_type": "stream",
     "text": [
      " 82%|████████▏ | 23/28 [15:43<03:24, 40.84s/it]"
     ]
    },
    {
     "name": "stdout",
     "output_type": "stream",
     "text": [
      "Download complete\n",
      "\n"
     ]
    },
    {
     "name": "stderr",
     "output_type": "stream",
     "text": [
      " 86%|████████▌ | 24/28 [16:24<02:43, 41.00s/it]"
     ]
    },
    {
     "name": "stdout",
     "output_type": "stream",
     "text": [
      "Download complete\n",
      "\n"
     ]
    },
    {
     "name": "stderr",
     "output_type": "stream",
     "text": [
      " 89%|████████▉ | 25/28 [17:04<02:02, 40.76s/it]"
     ]
    },
    {
     "name": "stdout",
     "output_type": "stream",
     "text": [
      "Download complete\n",
      "\n"
     ]
    },
    {
     "name": "stderr",
     "output_type": "stream",
     "text": [
      " 93%|█████████▎| 26/28 [17:46<01:22, 41.05s/it]"
     ]
    },
    {
     "name": "stdout",
     "output_type": "stream",
     "text": [
      "Download complete\n",
      "\n"
     ]
    },
    {
     "name": "stderr",
     "output_type": "stream",
     "text": [
      " 96%|█████████▋| 27/28 [18:26<00:40, 40.57s/it]"
     ]
    },
    {
     "name": "stdout",
     "output_type": "stream",
     "text": [
      "Download complete\n",
      "\n"
     ]
    },
    {
     "name": "stderr",
     "output_type": "stream",
     "text": [
      "100%|██████████| 28/28 [19:06<00:00, 40.96s/it]"
     ]
    },
    {
     "name": "stdout",
     "output_type": "stream",
     "text": [
      "Download complete\n",
      "\n"
     ]
    },
    {
     "name": "stderr",
     "output_type": "stream",
     "text": [
      "\n"
     ]
    }
   ],
   "source": [
    "# 2022 02\n",
    "\n",
    "for i in tqdm(range(1,29)):\n",
    "    if i < 10:\n",
    "        url = f'https://apihub.kma.go.kr/api/typ01/cgi-bin/url/nph-aws2_min?tm1=2022020{i}0000&tm2=2022020{i}1159&stn=129&disp=1&help=1&authKey=2izc0OqiSVGs3NDqoqlR-A'\n",
    "        url1 =f'https://apihub.kma.go.kr/api/typ01/cgi-bin/url/nph-aws2_min?tm1=2022020{i}1200&tm2=2022020{i}2359&stn=129&disp=1&help=1&authKey=2izc0OqiSVGs3NDqoqlR-A'\n",
    "        \n",
    "    else:\n",
    "\n",
    "        url = f'https://apihub.kma.go.kr/api/typ01/cgi-bin/url/nph-aws2_min?tm1=202202{i}0000&tm2=202202{i}1159&stn=129&disp=1&help=1&authKey=2izc0OqiSVGs3NDqoqlR-A'\n",
    "        url1 =f'https://apihub.kma.go.kr/api/typ01/cgi-bin/url/nph-aws2_min?tm1=202202{i}1200&tm2=202202{i}2359&stn=129&disp=1&help=1&authKey=2izc0OqiSVGs3NDqoqlR-A'\n",
    "\n",
    "    save_file_path = f'../data./tp/temp_a_{i}.csv'\n",
    "    save_file_path1 = f'../data./tp/temp_b_{i}.csv'\n",
    "\n",
    "\n",
    "    # 파일 다운로드 함수를 호출합니다.\n",
    "    download_file(url, save_file_path)\n",
    "    download_file(url1, save_file_path1)\n",
    "    \n",
    "    # print download state\n",
    "    print('Download complete\\n')\n",
    "    \n",
    "    temp_a = pd.read_csv(f'../data./tp/temp_a_{i}.csv', \n",
    "                         header=None, \n",
    "                         encoding='cp949', skiprows=22)\n",
    "    \n",
    "    temp_b = pd.read_csv(f'../data./tp/temp_b_{i}.csv', \n",
    "                         header=None, \n",
    "                         encoding='cp949', skiprows=22)\n",
    "    \n",
    "    # Remove last row (END command)\n",
    "    temp_a.drop(len(temp_a)-1, inplace=True)\n",
    "    temp_b.drop(len(temp_b)-1, inplace=True)\n",
    "    \n",
    "    temp = pd.concat([temp, temp_a, temp_b])\n",
    "    \n",
    "\n",
    "  "
   ]
  },
  {
   "cell_type": "code",
   "execution_count": null,
   "metadata": {},
   "outputs": [
    {
     "name": "stderr",
     "output_type": "stream",
     "text": [
      "  3%|▎         | 1/31 [00:41<20:45, 41.51s/it]"
     ]
    },
    {
     "name": "stdout",
     "output_type": "stream",
     "text": [
      "Download complete\n",
      "\n"
     ]
    },
    {
     "name": "stderr",
     "output_type": "stream",
     "text": [
      "  6%|▋         | 2/31 [01:22<19:52, 41.13s/it]"
     ]
    },
    {
     "name": "stdout",
     "output_type": "stream",
     "text": [
      "Download complete\n",
      "\n"
     ]
    },
    {
     "name": "stderr",
     "output_type": "stream",
     "text": [
      " 10%|▉         | 3/31 [02:03<19:10, 41.09s/it]"
     ]
    },
    {
     "name": "stdout",
     "output_type": "stream",
     "text": [
      "Download complete\n",
      "\n"
     ]
    },
    {
     "name": "stderr",
     "output_type": "stream",
     "text": [
      " 13%|█▎        | 4/31 [02:44<18:24, 40.90s/it]"
     ]
    },
    {
     "name": "stdout",
     "output_type": "stream",
     "text": [
      "Download complete\n",
      "\n"
     ]
    },
    {
     "name": "stderr",
     "output_type": "stream",
     "text": [
      " 16%|█▌        | 5/31 [03:24<17:39, 40.75s/it]"
     ]
    },
    {
     "name": "stdout",
     "output_type": "stream",
     "text": [
      "Download complete\n",
      "\n"
     ]
    },
    {
     "name": "stderr",
     "output_type": "stream",
     "text": [
      " 19%|█▉        | 6/31 [04:05<16:58, 40.73s/it]"
     ]
    },
    {
     "name": "stdout",
     "output_type": "stream",
     "text": [
      "Download complete\n",
      "\n"
     ]
    },
    {
     "name": "stderr",
     "output_type": "stream",
     "text": [
      " 23%|██▎       | 7/31 [04:45<16:17, 40.73s/it]"
     ]
    },
    {
     "name": "stdout",
     "output_type": "stream",
     "text": [
      "Download complete\n",
      "\n"
     ]
    },
    {
     "name": "stderr",
     "output_type": "stream",
     "text": [
      " 26%|██▌       | 8/31 [05:26<15:32, 40.52s/it]"
     ]
    },
    {
     "name": "stdout",
     "output_type": "stream",
     "text": [
      "Download complete\n",
      "\n"
     ]
    },
    {
     "name": "stderr",
     "output_type": "stream",
     "text": [
      " 29%|██▉       | 9/31 [06:06<14:50, 40.48s/it]"
     ]
    },
    {
     "name": "stdout",
     "output_type": "stream",
     "text": [
      "Download complete\n",
      "\n"
     ]
    },
    {
     "name": "stderr",
     "output_type": "stream",
     "text": [
      " 32%|███▏      | 10/31 [06:48<14:17, 40.85s/it]"
     ]
    },
    {
     "name": "stdout",
     "output_type": "stream",
     "text": [
      "Download complete\n",
      "\n"
     ]
    },
    {
     "name": "stderr",
     "output_type": "stream",
     "text": [
      " 35%|███▌      | 11/31 [07:28<13:32, 40.62s/it]"
     ]
    },
    {
     "name": "stdout",
     "output_type": "stream",
     "text": [
      "Download complete\n",
      "\n"
     ]
    },
    {
     "name": "stderr",
     "output_type": "stream",
     "text": [
      " 39%|███▊      | 12/31 [08:09<12:53, 40.69s/it]"
     ]
    },
    {
     "name": "stdout",
     "output_type": "stream",
     "text": [
      "Download complete\n",
      "\n"
     ]
    },
    {
     "name": "stderr",
     "output_type": "stream",
     "text": [
      " 42%|████▏     | 13/31 [08:49<12:13, 40.74s/it]"
     ]
    },
    {
     "name": "stdout",
     "output_type": "stream",
     "text": [
      "Download complete\n",
      "\n"
     ]
    },
    {
     "name": "stderr",
     "output_type": "stream",
     "text": [
      " 45%|████▌     | 14/31 [09:30<11:30, 40.62s/it]"
     ]
    },
    {
     "name": "stdout",
     "output_type": "stream",
     "text": [
      "Download complete\n",
      "\n"
     ]
    },
    {
     "name": "stderr",
     "output_type": "stream",
     "text": [
      " 48%|████▊     | 15/31 [10:10<10:47, 40.45s/it]"
     ]
    },
    {
     "name": "stdout",
     "output_type": "stream",
     "text": [
      "Download complete\n",
      "\n"
     ]
    },
    {
     "name": "stderr",
     "output_type": "stream",
     "text": [
      " 52%|█████▏    | 16/31 [10:50<10:07, 40.53s/it]"
     ]
    },
    {
     "name": "stdout",
     "output_type": "stream",
     "text": [
      "Download complete\n",
      "\n"
     ]
    },
    {
     "name": "stderr",
     "output_type": "stream",
     "text": [
      " 55%|█████▍    | 17/31 [11:32<09:30, 40.74s/it]"
     ]
    },
    {
     "name": "stdout",
     "output_type": "stream",
     "text": [
      "Download complete\n",
      "\n"
     ]
    },
    {
     "name": "stderr",
     "output_type": "stream",
     "text": [
      " 58%|█████▊    | 18/31 [12:13<08:50, 40.82s/it]"
     ]
    },
    {
     "name": "stdout",
     "output_type": "stream",
     "text": [
      "Download complete\n",
      "\n"
     ]
    },
    {
     "name": "stderr",
     "output_type": "stream",
     "text": [
      " 61%|██████▏   | 19/31 [12:53<08:09, 40.79s/it]"
     ]
    },
    {
     "name": "stdout",
     "output_type": "stream",
     "text": [
      "Download complete\n",
      "\n"
     ]
    },
    {
     "name": "stderr",
     "output_type": "stream",
     "text": [
      " 65%|██████▍   | 20/31 [13:35<07:29, 40.91s/it]"
     ]
    },
    {
     "name": "stdout",
     "output_type": "stream",
     "text": [
      "Download complete\n",
      "\n"
     ]
    },
    {
     "name": "stderr",
     "output_type": "stream",
     "text": [
      " 68%|██████▊   | 21/31 [14:15<06:48, 40.85s/it]"
     ]
    },
    {
     "name": "stdout",
     "output_type": "stream",
     "text": [
      "Download complete\n",
      "\n"
     ]
    },
    {
     "name": "stderr",
     "output_type": "stream",
     "text": [
      " 71%|███████   | 22/31 [14:56<06:08, 40.91s/it]"
     ]
    },
    {
     "name": "stdout",
     "output_type": "stream",
     "text": [
      "Download complete\n",
      "\n"
     ]
    },
    {
     "name": "stderr",
     "output_type": "stream",
     "text": [
      " 74%|███████▍  | 23/31 [15:38<05:29, 41.14s/it]"
     ]
    },
    {
     "name": "stdout",
     "output_type": "stream",
     "text": [
      "Download complete\n",
      "\n"
     ]
    },
    {
     "name": "stderr",
     "output_type": "stream",
     "text": [
      " 77%|███████▋  | 24/31 [16:18<04:46, 40.92s/it]"
     ]
    },
    {
     "name": "stdout",
     "output_type": "stream",
     "text": [
      "Download complete\n",
      "\n"
     ]
    },
    {
     "name": "stderr",
     "output_type": "stream",
     "text": [
      " 81%|████████  | 25/31 [17:00<04:06, 41.10s/it]"
     ]
    },
    {
     "name": "stdout",
     "output_type": "stream",
     "text": [
      "Download complete\n",
      "\n"
     ]
    },
    {
     "name": "stderr",
     "output_type": "stream",
     "text": [
      " 84%|████████▍ | 26/31 [17:42<03:27, 41.48s/it]"
     ]
    },
    {
     "name": "stdout",
     "output_type": "stream",
     "text": [
      "Download complete\n",
      "\n"
     ]
    },
    {
     "name": "stderr",
     "output_type": "stream",
     "text": [
      " 87%|████████▋ | 27/31 [18:23<02:45, 41.37s/it]"
     ]
    },
    {
     "name": "stdout",
     "output_type": "stream",
     "text": [
      "Download complete\n",
      "\n"
     ]
    },
    {
     "name": "stderr",
     "output_type": "stream",
     "text": [
      " 90%|█████████ | 28/31 [19:05<02:03, 41.30s/it]"
     ]
    },
    {
     "name": "stdout",
     "output_type": "stream",
     "text": [
      "Download complete\n",
      "\n"
     ]
    },
    {
     "name": "stderr",
     "output_type": "stream",
     "text": [
      " 94%|█████████▎| 29/31 [19:46<01:22, 41.19s/it]"
     ]
    },
    {
     "name": "stdout",
     "output_type": "stream",
     "text": [
      "Download complete\n",
      "\n"
     ]
    },
    {
     "name": "stderr",
     "output_type": "stream",
     "text": [
      " 97%|█████████▋| 30/31 [20:26<00:41, 41.01s/it]"
     ]
    },
    {
     "name": "stdout",
     "output_type": "stream",
     "text": [
      "Download complete\n",
      "\n"
     ]
    },
    {
     "name": "stderr",
     "output_type": "stream",
     "text": [
      "100%|██████████| 31/31 [21:07<00:00, 40.89s/it]"
     ]
    },
    {
     "name": "stdout",
     "output_type": "stream",
     "text": [
      "Download complete\n",
      "\n"
     ]
    },
    {
     "name": "stderr",
     "output_type": "stream",
     "text": [
      "\n"
     ]
    }
   ],
   "source": [
    "#2022 03\n",
    "\n",
    "for i in tqdm(range(1,32)):\n",
    "    if i < 10:\n",
    "        url = f'https://apihub.kma.go.kr/api/typ01/cgi-bin/url/nph-aws2_min?tm1=2022030{i}0000&tm2=2022030{i}1159&stn=129&disp=1&help=1&authKey=2izc0OqiSVGs3NDqoqlR-A'\n",
    "        url1 =f'https://apihub.kma.go.kr/api/typ01/cgi-bin/url/nph-aws2_min?tm1=2022030{i}1200&tm2=2022030{i}2359&stn=129&disp=1&help=1&authKey=2izc0OqiSVGs3NDqoqlR-A'\n",
    "        \n",
    "    else:\n",
    "\n",
    "        url = f'https://apihub.kma.go.kr/api/typ01/cgi-bin/url/nph-aws2_min?tm1=202203{i}0000&tm2=202203{i}1159&stn=129&disp=1&help=1&authKey=2izc0OqiSVGs3NDqoqlR-A'\n",
    "        url1 =f'https://apihub.kma.go.kr/api/typ01/cgi-bin/url/nph-aws2_min?tm1=202203{i}1200&tm2=202203{i}2359&stn=129&disp=1&help=1&authKey=2izc0OqiSVGs3NDqoqlR-A'\n",
    "\n",
    "    save_file_path = f'../data./tp/temp_a_{i}.csv'\n",
    "    save_file_path1 = f'../data./tp/temp_b_{i}.csv'\n",
    "\n",
    "\n",
    "    # 파일 다운로드 함수를 호출합니다.\n",
    "    download_file(url, save_file_path)\n",
    "    download_file(url1, save_file_path1)\n",
    "    \n",
    "    # print download state\n",
    "    print('Download complete\\n')\n",
    "    \n",
    "    temp_a = pd.read_csv(f'../data./tp/temp_a_{i}.csv', \n",
    "                         header=None, \n",
    "                         encoding='cp949', skiprows=22)\n",
    "    \n",
    "    temp_b = pd.read_csv(f'../data./tp/temp_b_{i}.csv', \n",
    "                         header=None, \n",
    "                         encoding='cp949', skiprows=22)\n",
    "    \n",
    "    # Remove last row (END command)\n",
    "    temp_a.drop(len(temp_a)-1, inplace=True)\n",
    "    temp_b.drop(len(temp_b)-1, inplace=True)\n",
    "    \n",
    "    temp = pd.concat([temp, temp_a, temp_b])"
   ]
  },
  {
   "cell_type": "code",
   "execution_count": 26,
   "metadata": {},
   "outputs": [],
   "source": [
    "column_name = ['date','id','wd1','ws1','wds','wss','wd10','ws10','ta','re','rn-15m','rn-60m','rn-12h','rn-day','hm','pa','ps','td','etc']\n",
    "temp.columns=column_name\n",
    "temp.drop('etc', axis=1, inplace=True)"
   ]
  },
  {
   "cell_type": "code",
   "execution_count": 24,
   "metadata": {},
   "outputs": [
    {
     "data": {
      "text/html": [
       "<div>\n",
       "<style scoped>\n",
       "    .dataframe tbody tr th:only-of-type {\n",
       "        vertical-align: middle;\n",
       "    }\n",
       "\n",
       "    .dataframe tbody tr th {\n",
       "        vertical-align: top;\n",
       "    }\n",
       "\n",
       "    .dataframe thead th {\n",
       "        text-align: right;\n",
       "    }\n",
       "</style>\n",
       "<table border=\"1\" class=\"dataframe\">\n",
       "  <thead>\n",
       "    <tr style=\"text-align: right;\">\n",
       "      <th></th>\n",
       "      <th>date</th>\n",
       "      <th>id</th>\n",
       "      <th>wd1</th>\n",
       "      <th>ws1</th>\n",
       "      <th>wds</th>\n",
       "      <th>wss</th>\n",
       "      <th>wd10</th>\n",
       "      <th>ws10</th>\n",
       "      <th>ta</th>\n",
       "      <th>re</th>\n",
       "      <th>rn-15m</th>\n",
       "      <th>rn-60m</th>\n",
       "      <th>rn-12h</th>\n",
       "      <th>rn-day</th>\n",
       "      <th>hm</th>\n",
       "      <th>pa</th>\n",
       "      <th>ps</th>\n",
       "      <th>td</th>\n",
       "    </tr>\n",
       "  </thead>\n",
       "  <tbody>\n",
       "    <tr>\n",
       "      <th>0</th>\n",
       "      <td>2022-01-01 00:00:00</td>\n",
       "      <td>129.0</td>\n",
       "      <td>139.4</td>\n",
       "      <td>0.0</td>\n",
       "      <td>145.9</td>\n",
       "      <td>0.8</td>\n",
       "      <td>145.5</td>\n",
       "      <td>1.4</td>\n",
       "      <td>-9.1</td>\n",
       "      <td>0.0</td>\n",
       "      <td>0.0</td>\n",
       "      <td>0.0</td>\n",
       "      <td>0.0</td>\n",
       "      <td>0.0</td>\n",
       "      <td>76.7</td>\n",
       "      <td>1030.4</td>\n",
       "      <td>1033.8</td>\n",
       "      <td>-12.4</td>\n",
       "    </tr>\n",
       "    <tr>\n",
       "      <th>1</th>\n",
       "      <td>2022-01-01 00:01:00</td>\n",
       "      <td>129.0</td>\n",
       "      <td>155.8</td>\n",
       "      <td>0.0</td>\n",
       "      <td>167.6</td>\n",
       "      <td>0.1</td>\n",
       "      <td>142.7</td>\n",
       "      <td>1.2</td>\n",
       "      <td>-9.1</td>\n",
       "      <td>0.0</td>\n",
       "      <td>0.0</td>\n",
       "      <td>0.0</td>\n",
       "      <td>0.0</td>\n",
       "      <td>0.0</td>\n",
       "      <td>76.3</td>\n",
       "      <td>1030.3</td>\n",
       "      <td>1033.7</td>\n",
       "      <td>-12.5</td>\n",
       "    </tr>\n",
       "    <tr>\n",
       "      <th>2</th>\n",
       "      <td>2022-01-01 00:02:00</td>\n",
       "      <td>129.0</td>\n",
       "      <td>154.7</td>\n",
       "      <td>0.0</td>\n",
       "      <td>0.0</td>\n",
       "      <td>0.0</td>\n",
       "      <td>140.3</td>\n",
       "      <td>0.9</td>\n",
       "      <td>-9.1</td>\n",
       "      <td>0.0</td>\n",
       "      <td>0.0</td>\n",
       "      <td>0.0</td>\n",
       "      <td>0.0</td>\n",
       "      <td>0.0</td>\n",
       "      <td>76.1</td>\n",
       "      <td>1030.3</td>\n",
       "      <td>1033.7</td>\n",
       "      <td>-12.5</td>\n",
       "    </tr>\n",
       "    <tr>\n",
       "      <th>3</th>\n",
       "      <td>2022-01-01 00:03:00</td>\n",
       "      <td>129.0</td>\n",
       "      <td>301.9</td>\n",
       "      <td>0.0</td>\n",
       "      <td>0.0</td>\n",
       "      <td>0.0</td>\n",
       "      <td>138.2</td>\n",
       "      <td>0.7</td>\n",
       "      <td>-9.1</td>\n",
       "      <td>0.0</td>\n",
       "      <td>0.0</td>\n",
       "      <td>0.0</td>\n",
       "      <td>0.0</td>\n",
       "      <td>0.0</td>\n",
       "      <td>76.1</td>\n",
       "      <td>1030.3</td>\n",
       "      <td>1033.7</td>\n",
       "      <td>-12.5</td>\n",
       "    </tr>\n",
       "    <tr>\n",
       "      <th>4</th>\n",
       "      <td>2022-01-01 00:04:00</td>\n",
       "      <td>129.0</td>\n",
       "      <td>260.0</td>\n",
       "      <td>0.0</td>\n",
       "      <td>0.0</td>\n",
       "      <td>0.0</td>\n",
       "      <td>135.5</td>\n",
       "      <td>0.5</td>\n",
       "      <td>-9.1</td>\n",
       "      <td>0.0</td>\n",
       "      <td>0.0</td>\n",
       "      <td>0.0</td>\n",
       "      <td>0.0</td>\n",
       "      <td>0.0</td>\n",
       "      <td>76.1</td>\n",
       "      <td>1030.3</td>\n",
       "      <td>1033.7</td>\n",
       "      <td>-12.5</td>\n",
       "    </tr>\n",
       "    <tr>\n",
       "      <th>...</th>\n",
       "      <td>...</td>\n",
       "      <td>...</td>\n",
       "      <td>...</td>\n",
       "      <td>...</td>\n",
       "      <td>...</td>\n",
       "      <td>...</td>\n",
       "      <td>...</td>\n",
       "      <td>...</td>\n",
       "      <td>...</td>\n",
       "      <td>...</td>\n",
       "      <td>...</td>\n",
       "      <td>...</td>\n",
       "      <td>...</td>\n",
       "      <td>...</td>\n",
       "      <td>...</td>\n",
       "      <td>...</td>\n",
       "      <td>...</td>\n",
       "      <td>...</td>\n",
       "    </tr>\n",
       "    <tr>\n",
       "      <th>129595</th>\n",
       "      <td>2022-03-31 23:55:00</td>\n",
       "      <td>129.0</td>\n",
       "      <td>308.0</td>\n",
       "      <td>0.1</td>\n",
       "      <td>315.0</td>\n",
       "      <td>1.0</td>\n",
       "      <td>52.6</td>\n",
       "      <td>1.0</td>\n",
       "      <td>6.1</td>\n",
       "      <td>0.0</td>\n",
       "      <td>0.0</td>\n",
       "      <td>0.0</td>\n",
       "      <td>0.0</td>\n",
       "      <td>0.0</td>\n",
       "      <td>81.5</td>\n",
       "      <td>1024.6</td>\n",
       "      <td>1027.8</td>\n",
       "      <td>3.2</td>\n",
       "    </tr>\n",
       "    <tr>\n",
       "      <th>129596</th>\n",
       "      <td>2022-03-31 23:56:00</td>\n",
       "      <td>129.0</td>\n",
       "      <td>7.9</td>\n",
       "      <td>0.4</td>\n",
       "      <td>14.0</td>\n",
       "      <td>1.1</td>\n",
       "      <td>43.6</td>\n",
       "      <td>0.8</td>\n",
       "      <td>6.1</td>\n",
       "      <td>0.0</td>\n",
       "      <td>0.0</td>\n",
       "      <td>0.0</td>\n",
       "      <td>0.0</td>\n",
       "      <td>0.0</td>\n",
       "      <td>81.8</td>\n",
       "      <td>1024.6</td>\n",
       "      <td>1027.8</td>\n",
       "      <td>3.2</td>\n",
       "    </tr>\n",
       "    <tr>\n",
       "      <th>129597</th>\n",
       "      <td>2022-03-31 23:57:00</td>\n",
       "      <td>129.0</td>\n",
       "      <td>72.4</td>\n",
       "      <td>0.0</td>\n",
       "      <td>314.5</td>\n",
       "      <td>0.4</td>\n",
       "      <td>34.2</td>\n",
       "      <td>0.7</td>\n",
       "      <td>6.1</td>\n",
       "      <td>0.0</td>\n",
       "      <td>0.0</td>\n",
       "      <td>0.0</td>\n",
       "      <td>0.0</td>\n",
       "      <td>0.0</td>\n",
       "      <td>82.1</td>\n",
       "      <td>1024.6</td>\n",
       "      <td>1027.8</td>\n",
       "      <td>3.3</td>\n",
       "    </tr>\n",
       "    <tr>\n",
       "      <th>129598</th>\n",
       "      <td>2022-03-31 23:58:00</td>\n",
       "      <td>129.0</td>\n",
       "      <td>22.1</td>\n",
       "      <td>1.6</td>\n",
       "      <td>42.3</td>\n",
       "      <td>1.8</td>\n",
       "      <td>16.9</td>\n",
       "      <td>0.7</td>\n",
       "      <td>6.1</td>\n",
       "      <td>0.0</td>\n",
       "      <td>0.0</td>\n",
       "      <td>0.0</td>\n",
       "      <td>0.0</td>\n",
       "      <td>0.0</td>\n",
       "      <td>82.4</td>\n",
       "      <td>1024.6</td>\n",
       "      <td>1027.8</td>\n",
       "      <td>3.3</td>\n",
       "    </tr>\n",
       "    <tr>\n",
       "      <th>129599</th>\n",
       "      <td>2022-03-31 23:59:00</td>\n",
       "      <td>129.0</td>\n",
       "      <td>26.2</td>\n",
       "      <td>1.6</td>\n",
       "      <td>20.6</td>\n",
       "      <td>1.8</td>\n",
       "      <td>6.8</td>\n",
       "      <td>0.7</td>\n",
       "      <td>6.1</td>\n",
       "      <td>0.0</td>\n",
       "      <td>0.0</td>\n",
       "      <td>0.0</td>\n",
       "      <td>0.0</td>\n",
       "      <td>0.0</td>\n",
       "      <td>82.4</td>\n",
       "      <td>1024.6</td>\n",
       "      <td>1027.8</td>\n",
       "      <td>3.3</td>\n",
       "    </tr>\n",
       "  </tbody>\n",
       "</table>\n",
       "<p>129600 rows × 18 columns</p>\n",
       "</div>"
      ],
      "text/plain": [
       "                      date     id    wd1  ws1    wds  wss   wd10  ws10   ta  \\\n",
       "0      2022-01-01 00:00:00  129.0  139.4  0.0  145.9  0.8  145.5   1.4 -9.1   \n",
       "1      2022-01-01 00:01:00  129.0  155.8  0.0  167.6  0.1  142.7   1.2 -9.1   \n",
       "2      2022-01-01 00:02:00  129.0  154.7  0.0    0.0  0.0  140.3   0.9 -9.1   \n",
       "3      2022-01-01 00:03:00  129.0  301.9  0.0    0.0  0.0  138.2   0.7 -9.1   \n",
       "4      2022-01-01 00:04:00  129.0  260.0  0.0    0.0  0.0  135.5   0.5 -9.1   \n",
       "...                    ...    ...    ...  ...    ...  ...    ...   ...  ...   \n",
       "129595 2022-03-31 23:55:00  129.0  308.0  0.1  315.0  1.0   52.6   1.0  6.1   \n",
       "129596 2022-03-31 23:56:00  129.0    7.9  0.4   14.0  1.1   43.6   0.8  6.1   \n",
       "129597 2022-03-31 23:57:00  129.0   72.4  0.0  314.5  0.4   34.2   0.7  6.1   \n",
       "129598 2022-03-31 23:58:00  129.0   22.1  1.6   42.3  1.8   16.9   0.7  6.1   \n",
       "129599 2022-03-31 23:59:00  129.0   26.2  1.6   20.6  1.8    6.8   0.7  6.1   \n",
       "\n",
       "         re  rn-15m  rn-60m  rn-12h  rn-day    hm      pa      ps    td  \n",
       "0       0.0     0.0     0.0     0.0     0.0  76.7  1030.4  1033.8 -12.4  \n",
       "1       0.0     0.0     0.0     0.0     0.0  76.3  1030.3  1033.7 -12.5  \n",
       "2       0.0     0.0     0.0     0.0     0.0  76.1  1030.3  1033.7 -12.5  \n",
       "3       0.0     0.0     0.0     0.0     0.0  76.1  1030.3  1033.7 -12.5  \n",
       "4       0.0     0.0     0.0     0.0     0.0  76.1  1030.3  1033.7 -12.5  \n",
       "...     ...     ...     ...     ...     ...   ...     ...     ...   ...  \n",
       "129595  0.0     0.0     0.0     0.0     0.0  81.5  1024.6  1027.8   3.2  \n",
       "129596  0.0     0.0     0.0     0.0     0.0  81.8  1024.6  1027.8   3.2  \n",
       "129597  0.0     0.0     0.0     0.0     0.0  82.1  1024.6  1027.8   3.3  \n",
       "129598  0.0     0.0     0.0     0.0     0.0  82.4  1024.6  1027.8   3.3  \n",
       "129599  0.0     0.0     0.0     0.0     0.0  82.4  1024.6  1027.8   3.3  \n",
       "\n",
       "[129600 rows x 18 columns]"
      ]
     },
     "execution_count": 24,
     "metadata": {},
     "output_type": "execute_result"
    }
   ],
   "source": [
    "temp.date = pd.to_datetime(temp.date)\n",
    "temp.reset_index(drop=True, inplace=True)\n",
    "temp"
   ]
  },
  {
   "cell_type": "code",
   "execution_count": 26,
   "metadata": {},
   "outputs": [],
   "source": [
    "jan = pd.read_csv('../data/imsi_jan_12.csv')"
   ]
  },
  {
   "cell_type": "code",
   "execution_count": 27,
   "metadata": {},
   "outputs": [
    {
     "data": {
      "text/html": [
       "<div>\n",
       "<style scoped>\n",
       "    .dataframe tbody tr th:only-of-type {\n",
       "        vertical-align: middle;\n",
       "    }\n",
       "\n",
       "    .dataframe tbody tr th {\n",
       "        vertical-align: top;\n",
       "    }\n",
       "\n",
       "    .dataframe thead th {\n",
       "        text-align: right;\n",
       "    }\n",
       "</style>\n",
       "<table border=\"1\" class=\"dataframe\">\n",
       "  <thead>\n",
       "    <tr style=\"text-align: right;\">\n",
       "      <th></th>\n",
       "      <th>Unnamed: 0</th>\n",
       "      <th>0</th>\n",
       "      <th>1</th>\n",
       "      <th>2</th>\n",
       "      <th>3</th>\n",
       "      <th>4</th>\n",
       "      <th>5</th>\n",
       "      <th>6</th>\n",
       "      <th>7</th>\n",
       "      <th>8</th>\n",
       "      <th>9</th>\n",
       "      <th>10</th>\n",
       "      <th>11</th>\n",
       "      <th>12</th>\n",
       "      <th>13</th>\n",
       "      <th>14</th>\n",
       "      <th>15</th>\n",
       "      <th>16</th>\n",
       "      <th>17</th>\n",
       "      <th>18</th>\n",
       "    </tr>\n",
       "  </thead>\n",
       "  <tbody>\n",
       "    <tr>\n",
       "      <th>0</th>\n",
       "      <td>0</td>\n",
       "      <td>202201010000</td>\n",
       "      <td>129.0</td>\n",
       "      <td>139.4</td>\n",
       "      <td>0.0</td>\n",
       "      <td>145.9</td>\n",
       "      <td>0.8</td>\n",
       "      <td>145.5</td>\n",
       "      <td>1.4</td>\n",
       "      <td>-9.1</td>\n",
       "      <td>0.0</td>\n",
       "      <td>0.0</td>\n",
       "      <td>0.0</td>\n",
       "      <td>0.0</td>\n",
       "      <td>0.0</td>\n",
       "      <td>76.7</td>\n",
       "      <td>1030.4</td>\n",
       "      <td>1033.8</td>\n",
       "      <td>-12.4</td>\n",
       "      <td>=</td>\n",
       "    </tr>\n",
       "    <tr>\n",
       "      <th>1</th>\n",
       "      <td>1</td>\n",
       "      <td>202201010001</td>\n",
       "      <td>129.0</td>\n",
       "      <td>155.8</td>\n",
       "      <td>0.0</td>\n",
       "      <td>167.6</td>\n",
       "      <td>0.1</td>\n",
       "      <td>142.7</td>\n",
       "      <td>1.2</td>\n",
       "      <td>-9.1</td>\n",
       "      <td>0.0</td>\n",
       "      <td>0.0</td>\n",
       "      <td>0.0</td>\n",
       "      <td>0.0</td>\n",
       "      <td>0.0</td>\n",
       "      <td>76.3</td>\n",
       "      <td>1030.3</td>\n",
       "      <td>1033.7</td>\n",
       "      <td>-12.5</td>\n",
       "      <td>=</td>\n",
       "    </tr>\n",
       "    <tr>\n",
       "      <th>2</th>\n",
       "      <td>2</td>\n",
       "      <td>202201010002</td>\n",
       "      <td>129.0</td>\n",
       "      <td>154.7</td>\n",
       "      <td>0.0</td>\n",
       "      <td>0.0</td>\n",
       "      <td>0.0</td>\n",
       "      <td>140.3</td>\n",
       "      <td>0.9</td>\n",
       "      <td>-9.1</td>\n",
       "      <td>0.0</td>\n",
       "      <td>0.0</td>\n",
       "      <td>0.0</td>\n",
       "      <td>0.0</td>\n",
       "      <td>0.0</td>\n",
       "      <td>76.1</td>\n",
       "      <td>1030.3</td>\n",
       "      <td>1033.7</td>\n",
       "      <td>-12.5</td>\n",
       "      <td>=</td>\n",
       "    </tr>\n",
       "    <tr>\n",
       "      <th>3</th>\n",
       "      <td>3</td>\n",
       "      <td>202201010003</td>\n",
       "      <td>129.0</td>\n",
       "      <td>301.9</td>\n",
       "      <td>0.0</td>\n",
       "      <td>0.0</td>\n",
       "      <td>0.0</td>\n",
       "      <td>138.2</td>\n",
       "      <td>0.7</td>\n",
       "      <td>-9.1</td>\n",
       "      <td>0.0</td>\n",
       "      <td>0.0</td>\n",
       "      <td>0.0</td>\n",
       "      <td>0.0</td>\n",
       "      <td>0.0</td>\n",
       "      <td>76.1</td>\n",
       "      <td>1030.3</td>\n",
       "      <td>1033.7</td>\n",
       "      <td>-12.5</td>\n",
       "      <td>=</td>\n",
       "    </tr>\n",
       "    <tr>\n",
       "      <th>4</th>\n",
       "      <td>4</td>\n",
       "      <td>202201010004</td>\n",
       "      <td>129.0</td>\n",
       "      <td>260.0</td>\n",
       "      <td>0.0</td>\n",
       "      <td>0.0</td>\n",
       "      <td>0.0</td>\n",
       "      <td>135.5</td>\n",
       "      <td>0.5</td>\n",
       "      <td>-9.1</td>\n",
       "      <td>0.0</td>\n",
       "      <td>0.0</td>\n",
       "      <td>0.0</td>\n",
       "      <td>0.0</td>\n",
       "      <td>0.0</td>\n",
       "      <td>76.1</td>\n",
       "      <td>1030.3</td>\n",
       "      <td>1033.7</td>\n",
       "      <td>-12.5</td>\n",
       "      <td>=</td>\n",
       "    </tr>\n",
       "    <tr>\n",
       "      <th>...</th>\n",
       "      <td>...</td>\n",
       "      <td>...</td>\n",
       "      <td>...</td>\n",
       "      <td>...</td>\n",
       "      <td>...</td>\n",
       "      <td>...</td>\n",
       "      <td>...</td>\n",
       "      <td>...</td>\n",
       "      <td>...</td>\n",
       "      <td>...</td>\n",
       "      <td>...</td>\n",
       "      <td>...</td>\n",
       "      <td>...</td>\n",
       "      <td>...</td>\n",
       "      <td>...</td>\n",
       "      <td>...</td>\n",
       "      <td>...</td>\n",
       "      <td>...</td>\n",
       "      <td>...</td>\n",
       "      <td>...</td>\n",
       "    </tr>\n",
       "    <tr>\n",
       "      <th>44635</th>\n",
       "      <td>715</td>\n",
       "      <td>202201312355</td>\n",
       "      <td>129.0</td>\n",
       "      <td>123.1</td>\n",
       "      <td>0.0</td>\n",
       "      <td>135.2</td>\n",
       "      <td>0.7</td>\n",
       "      <td>175.1</td>\n",
       "      <td>0.6</td>\n",
       "      <td>-1.2</td>\n",
       "      <td>0.0</td>\n",
       "      <td>0.0</td>\n",
       "      <td>0.0</td>\n",
       "      <td>3.1</td>\n",
       "      <td>3.1</td>\n",
       "      <td>95.5</td>\n",
       "      <td>1020.5</td>\n",
       "      <td>1023.7</td>\n",
       "      <td>-1.8</td>\n",
       "      <td>=</td>\n",
       "    </tr>\n",
       "    <tr>\n",
       "      <th>44636</th>\n",
       "      <td>716</td>\n",
       "      <td>202201312356</td>\n",
       "      <td>129.0</td>\n",
       "      <td>148.1</td>\n",
       "      <td>0.7</td>\n",
       "      <td>147.1</td>\n",
       "      <td>1.1</td>\n",
       "      <td>170.2</td>\n",
       "      <td>0.7</td>\n",
       "      <td>-1.2</td>\n",
       "      <td>0.0</td>\n",
       "      <td>0.0</td>\n",
       "      <td>0.0</td>\n",
       "      <td>3.1</td>\n",
       "      <td>3.1</td>\n",
       "      <td>95.8</td>\n",
       "      <td>1020.5</td>\n",
       "      <td>1023.7</td>\n",
       "      <td>-1.8</td>\n",
       "      <td>=</td>\n",
       "    </tr>\n",
       "    <tr>\n",
       "      <th>44637</th>\n",
       "      <td>717</td>\n",
       "      <td>202201312357</td>\n",
       "      <td>129.0</td>\n",
       "      <td>155.4</td>\n",
       "      <td>0.4</td>\n",
       "      <td>163.8</td>\n",
       "      <td>1.2</td>\n",
       "      <td>167.9</td>\n",
       "      <td>0.7</td>\n",
       "      <td>-1.3</td>\n",
       "      <td>0.0</td>\n",
       "      <td>0.0</td>\n",
       "      <td>0.0</td>\n",
       "      <td>3.1</td>\n",
       "      <td>3.1</td>\n",
       "      <td>95.9</td>\n",
       "      <td>1020.6</td>\n",
       "      <td>1023.8</td>\n",
       "      <td>-1.9</td>\n",
       "      <td>=</td>\n",
       "    </tr>\n",
       "    <tr>\n",
       "      <th>44638</th>\n",
       "      <td>718</td>\n",
       "      <td>202201312358</td>\n",
       "      <td>129.0</td>\n",
       "      <td>184.8</td>\n",
       "      <td>1.3</td>\n",
       "      <td>198.4</td>\n",
       "      <td>1.6</td>\n",
       "      <td>170.2</td>\n",
       "      <td>0.9</td>\n",
       "      <td>-1.3</td>\n",
       "      <td>0.0</td>\n",
       "      <td>0.0</td>\n",
       "      <td>0.0</td>\n",
       "      <td>3.1</td>\n",
       "      <td>3.1</td>\n",
       "      <td>95.9</td>\n",
       "      <td>1020.6</td>\n",
       "      <td>1023.8</td>\n",
       "      <td>-1.9</td>\n",
       "      <td>=</td>\n",
       "    </tr>\n",
       "    <tr>\n",
       "      <th>44639</th>\n",
       "      <td>719</td>\n",
       "      <td>202201312359</td>\n",
       "      <td>129.0</td>\n",
       "      <td>197.8</td>\n",
       "      <td>1.2</td>\n",
       "      <td>193.3</td>\n",
       "      <td>1.3</td>\n",
       "      <td>170.9</td>\n",
       "      <td>0.8</td>\n",
       "      <td>-1.3</td>\n",
       "      <td>0.0</td>\n",
       "      <td>0.0</td>\n",
       "      <td>0.0</td>\n",
       "      <td>3.1</td>\n",
       "      <td>3.1</td>\n",
       "      <td>95.8</td>\n",
       "      <td>1020.6</td>\n",
       "      <td>1023.8</td>\n",
       "      <td>-1.9</td>\n",
       "      <td>=</td>\n",
       "    </tr>\n",
       "  </tbody>\n",
       "</table>\n",
       "<p>44640 rows × 20 columns</p>\n",
       "</div>"
      ],
      "text/plain": [
       "       Unnamed: 0             0      1      2    3      4    5      6    7  \\\n",
       "0               0  202201010000  129.0  139.4  0.0  145.9  0.8  145.5  1.4   \n",
       "1               1  202201010001  129.0  155.8  0.0  167.6  0.1  142.7  1.2   \n",
       "2               2  202201010002  129.0  154.7  0.0    0.0  0.0  140.3  0.9   \n",
       "3               3  202201010003  129.0  301.9  0.0    0.0  0.0  138.2  0.7   \n",
       "4               4  202201010004  129.0  260.0  0.0    0.0  0.0  135.5  0.5   \n",
       "...           ...           ...    ...    ...  ...    ...  ...    ...  ...   \n",
       "44635         715  202201312355  129.0  123.1  0.0  135.2  0.7  175.1  0.6   \n",
       "44636         716  202201312356  129.0  148.1  0.7  147.1  1.1  170.2  0.7   \n",
       "44637         717  202201312357  129.0  155.4  0.4  163.8  1.2  167.9  0.7   \n",
       "44638         718  202201312358  129.0  184.8  1.3  198.4  1.6  170.2  0.9   \n",
       "44639         719  202201312359  129.0  197.8  1.2  193.3  1.3  170.9  0.8   \n",
       "\n",
       "         8    9   10   11   12   13    14      15      16    17 18  \n",
       "0     -9.1  0.0  0.0  0.0  0.0  0.0  76.7  1030.4  1033.8 -12.4  =  \n",
       "1     -9.1  0.0  0.0  0.0  0.0  0.0  76.3  1030.3  1033.7 -12.5  =  \n",
       "2     -9.1  0.0  0.0  0.0  0.0  0.0  76.1  1030.3  1033.7 -12.5  =  \n",
       "3     -9.1  0.0  0.0  0.0  0.0  0.0  76.1  1030.3  1033.7 -12.5  =  \n",
       "4     -9.1  0.0  0.0  0.0  0.0  0.0  76.1  1030.3  1033.7 -12.5  =  \n",
       "...    ...  ...  ...  ...  ...  ...   ...     ...     ...   ... ..  \n",
       "44635 -1.2  0.0  0.0  0.0  3.1  3.1  95.5  1020.5  1023.7  -1.8  =  \n",
       "44636 -1.2  0.0  0.0  0.0  3.1  3.1  95.8  1020.5  1023.7  -1.8  =  \n",
       "44637 -1.3  0.0  0.0  0.0  3.1  3.1  95.9  1020.6  1023.8  -1.9  =  \n",
       "44638 -1.3  0.0  0.0  0.0  3.1  3.1  95.9  1020.6  1023.8  -1.9  =  \n",
       "44639 -1.3  0.0  0.0  0.0  3.1  3.1  95.8  1020.6  1023.8  -1.9  =  \n",
       "\n",
       "[44640 rows x 20 columns]"
      ]
     },
     "execution_count": 27,
     "metadata": {},
     "output_type": "execute_result"
    }
   ],
   "source": [
    "jan"
   ]
  },
  {
   "cell_type": "code",
   "execution_count": 28,
   "metadata": {},
   "outputs": [],
   "source": [
    "temp.to_csv('../data/kma_202201_202203.csv', index=False)\n",
    "temp.to_excel('../data/kma_202201_202203.xlsx', index=False)"
   ]
  },
  {
   "cell_type": "code",
   "execution_count": 3,
   "metadata": {},
   "outputs": [],
   "source": [
    "df = pd.read_csv('../data/kma_202201_202203.csv')"
   ]
  },
  {
   "cell_type": "code",
   "execution_count": 4,
   "metadata": {},
   "outputs": [
    {
     "data": {
      "text/html": [
       "<div>\n",
       "<style scoped>\n",
       "    .dataframe tbody tr th:only-of-type {\n",
       "        vertical-align: middle;\n",
       "    }\n",
       "\n",
       "    .dataframe tbody tr th {\n",
       "        vertical-align: top;\n",
       "    }\n",
       "\n",
       "    .dataframe thead th {\n",
       "        text-align: right;\n",
       "    }\n",
       "</style>\n",
       "<table border=\"1\" class=\"dataframe\">\n",
       "  <thead>\n",
       "    <tr style=\"text-align: right;\">\n",
       "      <th></th>\n",
       "      <th>date</th>\n",
       "      <th>id</th>\n",
       "      <th>wd1</th>\n",
       "      <th>ws1</th>\n",
       "      <th>wds</th>\n",
       "      <th>wss</th>\n",
       "      <th>wd10</th>\n",
       "      <th>ws10</th>\n",
       "      <th>ta</th>\n",
       "      <th>re</th>\n",
       "      <th>rn-15m</th>\n",
       "      <th>rn-60m</th>\n",
       "      <th>rn-12h</th>\n",
       "      <th>rn-day</th>\n",
       "      <th>hm</th>\n",
       "      <th>pa</th>\n",
       "      <th>ps</th>\n",
       "      <th>td</th>\n",
       "    </tr>\n",
       "  </thead>\n",
       "  <tbody>\n",
       "    <tr>\n",
       "      <th>0</th>\n",
       "      <td>2022-01-01 00:00:00</td>\n",
       "      <td>129.0</td>\n",
       "      <td>139.4</td>\n",
       "      <td>0.0</td>\n",
       "      <td>145.9</td>\n",
       "      <td>0.8</td>\n",
       "      <td>145.5</td>\n",
       "      <td>1.4</td>\n",
       "      <td>-9.1</td>\n",
       "      <td>0.0</td>\n",
       "      <td>0.0</td>\n",
       "      <td>0.0</td>\n",
       "      <td>0.0</td>\n",
       "      <td>0.0</td>\n",
       "      <td>76.7</td>\n",
       "      <td>1030.4</td>\n",
       "      <td>1033.8</td>\n",
       "      <td>-12.4</td>\n",
       "    </tr>\n",
       "    <tr>\n",
       "      <th>1</th>\n",
       "      <td>2022-01-01 00:01:00</td>\n",
       "      <td>129.0</td>\n",
       "      <td>155.8</td>\n",
       "      <td>0.0</td>\n",
       "      <td>167.6</td>\n",
       "      <td>0.1</td>\n",
       "      <td>142.7</td>\n",
       "      <td>1.2</td>\n",
       "      <td>-9.1</td>\n",
       "      <td>0.0</td>\n",
       "      <td>0.0</td>\n",
       "      <td>0.0</td>\n",
       "      <td>0.0</td>\n",
       "      <td>0.0</td>\n",
       "      <td>76.3</td>\n",
       "      <td>1030.3</td>\n",
       "      <td>1033.7</td>\n",
       "      <td>-12.5</td>\n",
       "    </tr>\n",
       "    <tr>\n",
       "      <th>2</th>\n",
       "      <td>2022-01-01 00:02:00</td>\n",
       "      <td>129.0</td>\n",
       "      <td>154.7</td>\n",
       "      <td>0.0</td>\n",
       "      <td>0.0</td>\n",
       "      <td>0.0</td>\n",
       "      <td>140.3</td>\n",
       "      <td>0.9</td>\n",
       "      <td>-9.1</td>\n",
       "      <td>0.0</td>\n",
       "      <td>0.0</td>\n",
       "      <td>0.0</td>\n",
       "      <td>0.0</td>\n",
       "      <td>0.0</td>\n",
       "      <td>76.1</td>\n",
       "      <td>1030.3</td>\n",
       "      <td>1033.7</td>\n",
       "      <td>-12.5</td>\n",
       "    </tr>\n",
       "    <tr>\n",
       "      <th>3</th>\n",
       "      <td>2022-01-01 00:03:00</td>\n",
       "      <td>129.0</td>\n",
       "      <td>301.9</td>\n",
       "      <td>0.0</td>\n",
       "      <td>0.0</td>\n",
       "      <td>0.0</td>\n",
       "      <td>138.2</td>\n",
       "      <td>0.7</td>\n",
       "      <td>-9.1</td>\n",
       "      <td>0.0</td>\n",
       "      <td>0.0</td>\n",
       "      <td>0.0</td>\n",
       "      <td>0.0</td>\n",
       "      <td>0.0</td>\n",
       "      <td>76.1</td>\n",
       "      <td>1030.3</td>\n",
       "      <td>1033.7</td>\n",
       "      <td>-12.5</td>\n",
       "    </tr>\n",
       "    <tr>\n",
       "      <th>4</th>\n",
       "      <td>2022-01-01 00:04:00</td>\n",
       "      <td>129.0</td>\n",
       "      <td>260.0</td>\n",
       "      <td>0.0</td>\n",
       "      <td>0.0</td>\n",
       "      <td>0.0</td>\n",
       "      <td>135.5</td>\n",
       "      <td>0.5</td>\n",
       "      <td>-9.1</td>\n",
       "      <td>0.0</td>\n",
       "      <td>0.0</td>\n",
       "      <td>0.0</td>\n",
       "      <td>0.0</td>\n",
       "      <td>0.0</td>\n",
       "      <td>76.1</td>\n",
       "      <td>1030.3</td>\n",
       "      <td>1033.7</td>\n",
       "      <td>-12.5</td>\n",
       "    </tr>\n",
       "    <tr>\n",
       "      <th>...</th>\n",
       "      <td>...</td>\n",
       "      <td>...</td>\n",
       "      <td>...</td>\n",
       "      <td>...</td>\n",
       "      <td>...</td>\n",
       "      <td>...</td>\n",
       "      <td>...</td>\n",
       "      <td>...</td>\n",
       "      <td>...</td>\n",
       "      <td>...</td>\n",
       "      <td>...</td>\n",
       "      <td>...</td>\n",
       "      <td>...</td>\n",
       "      <td>...</td>\n",
       "      <td>...</td>\n",
       "      <td>...</td>\n",
       "      <td>...</td>\n",
       "      <td>...</td>\n",
       "    </tr>\n",
       "    <tr>\n",
       "      <th>129595</th>\n",
       "      <td>2022-03-31 23:55:00</td>\n",
       "      <td>129.0</td>\n",
       "      <td>308.0</td>\n",
       "      <td>0.1</td>\n",
       "      <td>315.0</td>\n",
       "      <td>1.0</td>\n",
       "      <td>52.6</td>\n",
       "      <td>1.0</td>\n",
       "      <td>6.1</td>\n",
       "      <td>0.0</td>\n",
       "      <td>0.0</td>\n",
       "      <td>0.0</td>\n",
       "      <td>0.0</td>\n",
       "      <td>0.0</td>\n",
       "      <td>81.5</td>\n",
       "      <td>1024.6</td>\n",
       "      <td>1027.8</td>\n",
       "      <td>3.2</td>\n",
       "    </tr>\n",
       "    <tr>\n",
       "      <th>129596</th>\n",
       "      <td>2022-03-31 23:56:00</td>\n",
       "      <td>129.0</td>\n",
       "      <td>7.9</td>\n",
       "      <td>0.4</td>\n",
       "      <td>14.0</td>\n",
       "      <td>1.1</td>\n",
       "      <td>43.6</td>\n",
       "      <td>0.8</td>\n",
       "      <td>6.1</td>\n",
       "      <td>0.0</td>\n",
       "      <td>0.0</td>\n",
       "      <td>0.0</td>\n",
       "      <td>0.0</td>\n",
       "      <td>0.0</td>\n",
       "      <td>81.8</td>\n",
       "      <td>1024.6</td>\n",
       "      <td>1027.8</td>\n",
       "      <td>3.2</td>\n",
       "    </tr>\n",
       "    <tr>\n",
       "      <th>129597</th>\n",
       "      <td>2022-03-31 23:57:00</td>\n",
       "      <td>129.0</td>\n",
       "      <td>72.4</td>\n",
       "      <td>0.0</td>\n",
       "      <td>314.5</td>\n",
       "      <td>0.4</td>\n",
       "      <td>34.2</td>\n",
       "      <td>0.7</td>\n",
       "      <td>6.1</td>\n",
       "      <td>0.0</td>\n",
       "      <td>0.0</td>\n",
       "      <td>0.0</td>\n",
       "      <td>0.0</td>\n",
       "      <td>0.0</td>\n",
       "      <td>82.1</td>\n",
       "      <td>1024.6</td>\n",
       "      <td>1027.8</td>\n",
       "      <td>3.3</td>\n",
       "    </tr>\n",
       "    <tr>\n",
       "      <th>129598</th>\n",
       "      <td>2022-03-31 23:58:00</td>\n",
       "      <td>129.0</td>\n",
       "      <td>22.1</td>\n",
       "      <td>1.6</td>\n",
       "      <td>42.3</td>\n",
       "      <td>1.8</td>\n",
       "      <td>16.9</td>\n",
       "      <td>0.7</td>\n",
       "      <td>6.1</td>\n",
       "      <td>0.0</td>\n",
       "      <td>0.0</td>\n",
       "      <td>0.0</td>\n",
       "      <td>0.0</td>\n",
       "      <td>0.0</td>\n",
       "      <td>82.4</td>\n",
       "      <td>1024.6</td>\n",
       "      <td>1027.8</td>\n",
       "      <td>3.3</td>\n",
       "    </tr>\n",
       "    <tr>\n",
       "      <th>129599</th>\n",
       "      <td>2022-03-31 23:59:00</td>\n",
       "      <td>129.0</td>\n",
       "      <td>26.2</td>\n",
       "      <td>1.6</td>\n",
       "      <td>20.6</td>\n",
       "      <td>1.8</td>\n",
       "      <td>6.8</td>\n",
       "      <td>0.7</td>\n",
       "      <td>6.1</td>\n",
       "      <td>0.0</td>\n",
       "      <td>0.0</td>\n",
       "      <td>0.0</td>\n",
       "      <td>0.0</td>\n",
       "      <td>0.0</td>\n",
       "      <td>82.4</td>\n",
       "      <td>1024.6</td>\n",
       "      <td>1027.8</td>\n",
       "      <td>3.3</td>\n",
       "    </tr>\n",
       "  </tbody>\n",
       "</table>\n",
       "<p>129600 rows × 18 columns</p>\n",
       "</div>"
      ],
      "text/plain": [
       "                       date     id    wd1  ws1    wds  wss   wd10  ws10   ta  \\\n",
       "0       2022-01-01 00:00:00  129.0  139.4  0.0  145.9  0.8  145.5   1.4 -9.1   \n",
       "1       2022-01-01 00:01:00  129.0  155.8  0.0  167.6  0.1  142.7   1.2 -9.1   \n",
       "2       2022-01-01 00:02:00  129.0  154.7  0.0    0.0  0.0  140.3   0.9 -9.1   \n",
       "3       2022-01-01 00:03:00  129.0  301.9  0.0    0.0  0.0  138.2   0.7 -9.1   \n",
       "4       2022-01-01 00:04:00  129.0  260.0  0.0    0.0  0.0  135.5   0.5 -9.1   \n",
       "...                     ...    ...    ...  ...    ...  ...    ...   ...  ...   \n",
       "129595  2022-03-31 23:55:00  129.0  308.0  0.1  315.0  1.0   52.6   1.0  6.1   \n",
       "129596  2022-03-31 23:56:00  129.0    7.9  0.4   14.0  1.1   43.6   0.8  6.1   \n",
       "129597  2022-03-31 23:57:00  129.0   72.4  0.0  314.5  0.4   34.2   0.7  6.1   \n",
       "129598  2022-03-31 23:58:00  129.0   22.1  1.6   42.3  1.8   16.9   0.7  6.1   \n",
       "129599  2022-03-31 23:59:00  129.0   26.2  1.6   20.6  1.8    6.8   0.7  6.1   \n",
       "\n",
       "         re  rn-15m  rn-60m  rn-12h  rn-day    hm      pa      ps    td  \n",
       "0       0.0     0.0     0.0     0.0     0.0  76.7  1030.4  1033.8 -12.4  \n",
       "1       0.0     0.0     0.0     0.0     0.0  76.3  1030.3  1033.7 -12.5  \n",
       "2       0.0     0.0     0.0     0.0     0.0  76.1  1030.3  1033.7 -12.5  \n",
       "3       0.0     0.0     0.0     0.0     0.0  76.1  1030.3  1033.7 -12.5  \n",
       "4       0.0     0.0     0.0     0.0     0.0  76.1  1030.3  1033.7 -12.5  \n",
       "...     ...     ...     ...     ...     ...   ...     ...     ...   ...  \n",
       "129595  0.0     0.0     0.0     0.0     0.0  81.5  1024.6  1027.8   3.2  \n",
       "129596  0.0     0.0     0.0     0.0     0.0  81.8  1024.6  1027.8   3.2  \n",
       "129597  0.0     0.0     0.0     0.0     0.0  82.1  1024.6  1027.8   3.3  \n",
       "129598  0.0     0.0     0.0     0.0     0.0  82.4  1024.6  1027.8   3.3  \n",
       "129599  0.0     0.0     0.0     0.0     0.0  82.4  1024.6  1027.8   3.3  \n",
       "\n",
       "[129600 rows x 18 columns]"
      ]
     },
     "execution_count": 4,
     "metadata": {},
     "output_type": "execute_result"
    }
   ],
   "source": [
    "df"
   ]
  },
  {
   "cell_type": "code",
   "execution_count": 6,
   "metadata": {},
   "outputs": [
    {
     "data": {
      "text/plain": [
       "Index(['date', 'id', 'wd1', 'ws1', 'wds', 'wss', 'wd10', 'ws10', 'ta', 're',\n",
       "       'rn-15m', 'rn-60m', 'rn-12h', 'rn-day', 'hm', 'pa', 'ps', 'td'],\n",
       "      dtype='object')"
      ]
     },
     "execution_count": 6,
     "metadata": {},
     "output_type": "execute_result"
    }
   ],
   "source": [
    "df.columns"
   ]
  },
  {
   "cell_type": "code",
   "execution_count": 8,
   "metadata": {},
   "outputs": [],
   "source": [
    "temp = df.iloc[:,[0,8,14]]"
   ]
  },
  {
   "cell_type": "code",
   "execution_count": 9,
   "metadata": {},
   "outputs": [
    {
     "data": {
      "text/html": [
       "<div>\n",
       "<style scoped>\n",
       "    .dataframe tbody tr th:only-of-type {\n",
       "        vertical-align: middle;\n",
       "    }\n",
       "\n",
       "    .dataframe tbody tr th {\n",
       "        vertical-align: top;\n",
       "    }\n",
       "\n",
       "    .dataframe thead th {\n",
       "        text-align: right;\n",
       "    }\n",
       "</style>\n",
       "<table border=\"1\" class=\"dataframe\">\n",
       "  <thead>\n",
       "    <tr style=\"text-align: right;\">\n",
       "      <th></th>\n",
       "      <th>date</th>\n",
       "      <th>ta</th>\n",
       "      <th>hm</th>\n",
       "    </tr>\n",
       "  </thead>\n",
       "  <tbody>\n",
       "    <tr>\n",
       "      <th>0</th>\n",
       "      <td>2022-01-01 00:00:00</td>\n",
       "      <td>-9.1</td>\n",
       "      <td>76.7</td>\n",
       "    </tr>\n",
       "    <tr>\n",
       "      <th>1</th>\n",
       "      <td>2022-01-01 00:01:00</td>\n",
       "      <td>-9.1</td>\n",
       "      <td>76.3</td>\n",
       "    </tr>\n",
       "    <tr>\n",
       "      <th>2</th>\n",
       "      <td>2022-01-01 00:02:00</td>\n",
       "      <td>-9.1</td>\n",
       "      <td>76.1</td>\n",
       "    </tr>\n",
       "    <tr>\n",
       "      <th>3</th>\n",
       "      <td>2022-01-01 00:03:00</td>\n",
       "      <td>-9.1</td>\n",
       "      <td>76.1</td>\n",
       "    </tr>\n",
       "    <tr>\n",
       "      <th>4</th>\n",
       "      <td>2022-01-01 00:04:00</td>\n",
       "      <td>-9.1</td>\n",
       "      <td>76.1</td>\n",
       "    </tr>\n",
       "    <tr>\n",
       "      <th>...</th>\n",
       "      <td>...</td>\n",
       "      <td>...</td>\n",
       "      <td>...</td>\n",
       "    </tr>\n",
       "    <tr>\n",
       "      <th>129595</th>\n",
       "      <td>2022-03-31 23:55:00</td>\n",
       "      <td>6.1</td>\n",
       "      <td>81.5</td>\n",
       "    </tr>\n",
       "    <tr>\n",
       "      <th>129596</th>\n",
       "      <td>2022-03-31 23:56:00</td>\n",
       "      <td>6.1</td>\n",
       "      <td>81.8</td>\n",
       "    </tr>\n",
       "    <tr>\n",
       "      <th>129597</th>\n",
       "      <td>2022-03-31 23:57:00</td>\n",
       "      <td>6.1</td>\n",
       "      <td>82.1</td>\n",
       "    </tr>\n",
       "    <tr>\n",
       "      <th>129598</th>\n",
       "      <td>2022-03-31 23:58:00</td>\n",
       "      <td>6.1</td>\n",
       "      <td>82.4</td>\n",
       "    </tr>\n",
       "    <tr>\n",
       "      <th>129599</th>\n",
       "      <td>2022-03-31 23:59:00</td>\n",
       "      <td>6.1</td>\n",
       "      <td>82.4</td>\n",
       "    </tr>\n",
       "  </tbody>\n",
       "</table>\n",
       "<p>129600 rows × 3 columns</p>\n",
       "</div>"
      ],
      "text/plain": [
       "                       date   ta    hm\n",
       "0       2022-01-01 00:00:00 -9.1  76.7\n",
       "1       2022-01-01 00:01:00 -9.1  76.3\n",
       "2       2022-01-01 00:02:00 -9.1  76.1\n",
       "3       2022-01-01 00:03:00 -9.1  76.1\n",
       "4       2022-01-01 00:04:00 -9.1  76.1\n",
       "...                     ...  ...   ...\n",
       "129595  2022-03-31 23:55:00  6.1  81.5\n",
       "129596  2022-03-31 23:56:00  6.1  81.8\n",
       "129597  2022-03-31 23:57:00  6.1  82.1\n",
       "129598  2022-03-31 23:58:00  6.1  82.4\n",
       "129599  2022-03-31 23:59:00  6.1  82.4\n",
       "\n",
       "[129600 rows x 3 columns]"
      ]
     },
     "execution_count": 9,
     "metadata": {},
     "output_type": "execute_result"
    }
   ],
   "source": [
    "temp"
   ]
  },
  {
   "cell_type": "code",
   "execution_count": 10,
   "metadata": {},
   "outputs": [],
   "source": [
    "temp.to_csv('../data/tmep.csv', index=False)\n"
   ]
  },
  {
   "cell_type": "code",
   "execution_count": 12,
   "metadata": {},
   "outputs": [],
   "source": [
    "z1 = pd.read_csv('../data/z1.csv')"
   ]
  },
  {
   "cell_type": "code",
   "execution_count": 21,
   "metadata": {},
   "outputs": [],
   "source": [
    "z1.rename(columns={'Description':'Date'},inplace=True)"
   ]
  },
  {
   "cell_type": "code",
   "execution_count": 20,
   "metadata": {},
   "outputs": [
    {
     "name": "stderr",
     "output_type": "stream",
     "text": [
      "C:\\Users\\CSK\\AppData\\Local\\Temp\\ipykernel_21264\\158076733.py:1: SettingWithCopyWarning: \n",
      "A value is trying to be set on a copy of a slice from a DataFrame\n",
      "\n",
      "See the caveats in the documentation: https://pandas.pydata.org/pandas-docs/stable/user_guide/indexing.html#returning-a-view-versus-a-copy\n",
      "  temp.rename(columns={'date':'Date'},inplace=True)\n"
     ]
    }
   ],
   "source": [
    "temp.rename(columns={'date':'Date'},inplace=True)"
   ]
  },
  {
   "cell_type": "code",
   "execution_count": 22,
   "metadata": {},
   "outputs": [],
   "source": [
    "df = pd.merge(z1,temp,how=\"inner\",on=\"Date\")"
   ]
  },
  {
   "cell_type": "code",
   "execution_count": 23,
   "metadata": {},
   "outputs": [
    {
     "data": {
      "text/html": [
       "<div>\n",
       "<style scoped>\n",
       "    .dataframe tbody tr th:only-of-type {\n",
       "        vertical-align: middle;\n",
       "    }\n",
       "\n",
       "    .dataframe tbody tr th {\n",
       "        vertical-align: top;\n",
       "    }\n",
       "\n",
       "    .dataframe thead th {\n",
       "        text-align: right;\n",
       "    }\n",
       "</style>\n",
       "<table border=\"1\" class=\"dataframe\">\n",
       "  <thead>\n",
       "    <tr style=\"text-align: right;\">\n",
       "      <th></th>\n",
       "      <th>Date</th>\n",
       "      <th>STACK NOX</th>\n",
       "      <th>SCR A Inlet O2 1 Sel</th>\n",
       "      <th>SCR A Outlet O2 1 Sel</th>\n",
       "      <th>ECON B OUT GAS O2 ANAL</th>\n",
       "      <th>SCR B Inlet Duct Press</th>\n",
       "      <th>FURN GAS PRESS</th>\n",
       "      <th>SCR A Outlet Duct Press</th>\n",
       "      <th>MAIN STM TEMP</th>\n",
       "      <th>SCR A Outlet NH3 1 Sel</th>\n",
       "      <th>...</th>\n",
       "      <th>AH A OUT GAS TEMP</th>\n",
       "      <th>SCR B I/L Duct Nox/O2 Anal Sel</th>\n",
       "      <th>TOTAL COAL FLOW WITHOUT CALORI</th>\n",
       "      <th>FWT(Feed Water Tank) PRESS</th>\n",
       "      <th>MAIN STEAM PRESS</th>\n",
       "      <th>RH(Reheater) OUT STM PRESS(To IP Turbine)</th>\n",
       "      <th>AH A IN PRIM AIR PRESS</th>\n",
       "      <th>CRH A STM PRESS SELECTION</th>\n",
       "      <th>ta</th>\n",
       "      <th>hm</th>\n",
       "    </tr>\n",
       "  </thead>\n",
       "  <tbody>\n",
       "    <tr>\n",
       "      <th>0</th>\n",
       "      <td>2022-01-02 18:23:00</td>\n",
       "      <td>-0.696720</td>\n",
       "      <td>1.780565</td>\n",
       "      <td>2.991449</td>\n",
       "      <td>2.256335</td>\n",
       "      <td>1.092835</td>\n",
       "      <td>0.794482</td>\n",
       "      <td>1.119847</td>\n",
       "      <td>-0.239467</td>\n",
       "      <td>-2.623049</td>\n",
       "      <td>...</td>\n",
       "      <td>-0.803235</td>\n",
       "      <td>-1.951646</td>\n",
       "      <td>-1.054610</td>\n",
       "      <td>-2.245224</td>\n",
       "      <td>-2.225343</td>\n",
       "      <td>-2.028138</td>\n",
       "      <td>1.154996</td>\n",
       "      <td>-2.026161</td>\n",
       "      <td>-1.5</td>\n",
       "      <td>68.7</td>\n",
       "    </tr>\n",
       "    <tr>\n",
       "      <th>1</th>\n",
       "      <td>2022-01-02 18:26:00</td>\n",
       "      <td>-1.136638</td>\n",
       "      <td>2.060365</td>\n",
       "      <td>2.844743</td>\n",
       "      <td>2.193955</td>\n",
       "      <td>1.241182</td>\n",
       "      <td>0.187569</td>\n",
       "      <td>0.825091</td>\n",
       "      <td>-0.573274</td>\n",
       "      <td>-2.934943</td>\n",
       "      <td>...</td>\n",
       "      <td>-0.732489</td>\n",
       "      <td>-1.983516</td>\n",
       "      <td>-1.094731</td>\n",
       "      <td>-2.148095</td>\n",
       "      <td>-2.214059</td>\n",
       "      <td>-1.994608</td>\n",
       "      <td>1.173750</td>\n",
       "      <td>-1.994063</td>\n",
       "      <td>-1.5</td>\n",
       "      <td>69.4</td>\n",
       "    </tr>\n",
       "    <tr>\n",
       "      <th>2</th>\n",
       "      <td>2022-01-02 18:28:00</td>\n",
       "      <td>-1.072279</td>\n",
       "      <td>2.094039</td>\n",
       "      <td>2.970381</td>\n",
       "      <td>1.718137</td>\n",
       "      <td>1.800609</td>\n",
       "      <td>0.376263</td>\n",
       "      <td>1.109972</td>\n",
       "      <td>-0.748070</td>\n",
       "      <td>-2.978062</td>\n",
       "      <td>...</td>\n",
       "      <td>-0.705726</td>\n",
       "      <td>-1.963824</td>\n",
       "      <td>-1.076626</td>\n",
       "      <td>-2.192102</td>\n",
       "      <td>-2.247237</td>\n",
       "      <td>-2.047210</td>\n",
       "      <td>1.242733</td>\n",
       "      <td>-2.044568</td>\n",
       "      <td>-1.5</td>\n",
       "      <td>71.3</td>\n",
       "    </tr>\n",
       "    <tr>\n",
       "      <th>3</th>\n",
       "      <td>2022-01-02 18:29:00</td>\n",
       "      <td>-0.964906</td>\n",
       "      <td>1.876524</td>\n",
       "      <td>2.476940</td>\n",
       "      <td>1.246795</td>\n",
       "      <td>0.571312</td>\n",
       "      <td>0.333397</td>\n",
       "      <td>0.804488</td>\n",
       "      <td>-0.280129</td>\n",
       "      <td>-2.135760</td>\n",
       "      <td>...</td>\n",
       "      <td>-0.671157</td>\n",
       "      <td>-1.991270</td>\n",
       "      <td>-1.069302</td>\n",
       "      <td>-2.206725</td>\n",
       "      <td>-2.251125</td>\n",
       "      <td>-2.059985</td>\n",
       "      <td>1.402284</td>\n",
       "      <td>-2.055574</td>\n",
       "      <td>-1.5</td>\n",
       "      <td>71.0</td>\n",
       "    </tr>\n",
       "    <tr>\n",
       "      <th>4</th>\n",
       "      <td>2022-01-02 18:30:00</td>\n",
       "      <td>-1.090287</td>\n",
       "      <td>1.899278</td>\n",
       "      <td>2.646269</td>\n",
       "      <td>1.435392</td>\n",
       "      <td>0.505971</td>\n",
       "      <td>-0.433901</td>\n",
       "      <td>0.597248</td>\n",
       "      <td>0.537152</td>\n",
       "      <td>-1.585906</td>\n",
       "      <td>...</td>\n",
       "      <td>-0.655258</td>\n",
       "      <td>-1.883006</td>\n",
       "      <td>-1.073603</td>\n",
       "      <td>-2.220357</td>\n",
       "      <td>-2.234001</td>\n",
       "      <td>-2.057402</td>\n",
       "      <td>1.130145</td>\n",
       "      <td>-2.053294</td>\n",
       "      <td>-1.5</td>\n",
       "      <td>70.6</td>\n",
       "    </tr>\n",
       "    <tr>\n",
       "      <th>...</th>\n",
       "      <td>...</td>\n",
       "      <td>...</td>\n",
       "      <td>...</td>\n",
       "      <td>...</td>\n",
       "      <td>...</td>\n",
       "      <td>...</td>\n",
       "      <td>...</td>\n",
       "      <td>...</td>\n",
       "      <td>...</td>\n",
       "      <td>...</td>\n",
       "      <td>...</td>\n",
       "      <td>...</td>\n",
       "      <td>...</td>\n",
       "      <td>...</td>\n",
       "      <td>...</td>\n",
       "      <td>...</td>\n",
       "      <td>...</td>\n",
       "      <td>...</td>\n",
       "      <td>...</td>\n",
       "      <td>...</td>\n",
       "      <td>...</td>\n",
       "    </tr>\n",
       "    <tr>\n",
       "      <th>62775</th>\n",
       "      <td>2022-03-16 11:41:00</td>\n",
       "      <td>0.265857</td>\n",
       "      <td>0.000963</td>\n",
       "      <td>-0.178544</td>\n",
       "      <td>2.395042</td>\n",
       "      <td>-1.810446</td>\n",
       "      <td>0.420922</td>\n",
       "      <td>-1.151115</td>\n",
       "      <td>-1.762902</td>\n",
       "      <td>0.006577</td>\n",
       "      <td>...</td>\n",
       "      <td>0.204051</td>\n",
       "      <td>0.327606</td>\n",
       "      <td>1.876406</td>\n",
       "      <td>1.118065</td>\n",
       "      <td>1.125768</td>\n",
       "      <td>1.146253</td>\n",
       "      <td>0.446107</td>\n",
       "      <td>1.134180</td>\n",
       "      <td>12.6</td>\n",
       "      <td>44.1</td>\n",
       "    </tr>\n",
       "    <tr>\n",
       "      <th>62776</th>\n",
       "      <td>2022-03-16 11:42:00</td>\n",
       "      <td>0.161821</td>\n",
       "      <td>-0.907756</td>\n",
       "      <td>-0.520904</td>\n",
       "      <td>1.760988</td>\n",
       "      <td>-0.913002</td>\n",
       "      <td>1.519289</td>\n",
       "      <td>-1.338824</td>\n",
       "      <td>-0.996386</td>\n",
       "      <td>0.006577</td>\n",
       "      <td>...</td>\n",
       "      <td>0.163715</td>\n",
       "      <td>0.638279</td>\n",
       "      <td>2.061500</td>\n",
       "      <td>1.111407</td>\n",
       "      <td>1.109180</td>\n",
       "      <td>1.168355</td>\n",
       "      <td>0.571459</td>\n",
       "      <td>1.168223</td>\n",
       "      <td>12.7</td>\n",
       "      <td>42.6</td>\n",
       "    </tr>\n",
       "    <tr>\n",
       "      <th>62777</th>\n",
       "      <td>2022-03-16 11:43:00</td>\n",
       "      <td>0.237987</td>\n",
       "      <td>-0.725154</td>\n",
       "      <td>-0.598766</td>\n",
       "      <td>0.966108</td>\n",
       "      <td>-1.782670</td>\n",
       "      <td>1.250577</td>\n",
       "      <td>-1.370039</td>\n",
       "      <td>0.475098</td>\n",
       "      <td>0.006577</td>\n",
       "      <td>...</td>\n",
       "      <td>0.149471</td>\n",
       "      <td>0.913418</td>\n",
       "      <td>2.345914</td>\n",
       "      <td>1.210235</td>\n",
       "      <td>1.155295</td>\n",
       "      <td>1.304677</td>\n",
       "      <td>0.710798</td>\n",
       "      <td>1.309256</td>\n",
       "      <td>12.8</td>\n",
       "      <td>38.6</td>\n",
       "    </tr>\n",
       "    <tr>\n",
       "      <th>62778</th>\n",
       "      <td>2022-03-16 11:44:00</td>\n",
       "      <td>0.395763</td>\n",
       "      <td>-1.366680</td>\n",
       "      <td>-0.785705</td>\n",
       "      <td>0.135387</td>\n",
       "      <td>-1.641799</td>\n",
       "      <td>2.296248</td>\n",
       "      <td>-1.620015</td>\n",
       "      <td>1.654851</td>\n",
       "      <td>0.006577</td>\n",
       "      <td>...</td>\n",
       "      <td>0.152344</td>\n",
       "      <td>1.078345</td>\n",
       "      <td>2.513985</td>\n",
       "      <td>1.422461</td>\n",
       "      <td>1.216345</td>\n",
       "      <td>1.519712</td>\n",
       "      <td>0.757007</td>\n",
       "      <td>1.517956</td>\n",
       "      <td>12.8</td>\n",
       "      <td>35.3</td>\n",
       "    </tr>\n",
       "    <tr>\n",
       "      <th>62779</th>\n",
       "      <td>2022-03-16 11:46:00</td>\n",
       "      <td>0.555046</td>\n",
       "      <td>-1.223041</td>\n",
       "      <td>-0.877462</td>\n",
       "      <td>-0.264822</td>\n",
       "      <td>-1.718859</td>\n",
       "      <td>2.723956</td>\n",
       "      <td>-1.633512</td>\n",
       "      <td>1.829571</td>\n",
       "      <td>0.006577</td>\n",
       "      <td>...</td>\n",
       "      <td>0.200723</td>\n",
       "      <td>1.279399</td>\n",
       "      <td>2.690663</td>\n",
       "      <td>1.997632</td>\n",
       "      <td>1.291182</td>\n",
       "      <td>1.999024</td>\n",
       "      <td>1.096354</td>\n",
       "      <td>1.999864</td>\n",
       "      <td>12.9</td>\n",
       "      <td>36.0</td>\n",
       "    </tr>\n",
       "  </tbody>\n",
       "</table>\n",
       "<p>62780 rows × 34 columns</p>\n",
       "</div>"
      ],
      "text/plain": [
       "                      Date  STACK NOX  SCR A Inlet O2 1 Sel  \\\n",
       "0      2022-01-02 18:23:00  -0.696720              1.780565   \n",
       "1      2022-01-02 18:26:00  -1.136638              2.060365   \n",
       "2      2022-01-02 18:28:00  -1.072279              2.094039   \n",
       "3      2022-01-02 18:29:00  -0.964906              1.876524   \n",
       "4      2022-01-02 18:30:00  -1.090287              1.899278   \n",
       "...                    ...        ...                   ...   \n",
       "62775  2022-03-16 11:41:00   0.265857              0.000963   \n",
       "62776  2022-03-16 11:42:00   0.161821             -0.907756   \n",
       "62777  2022-03-16 11:43:00   0.237987             -0.725154   \n",
       "62778  2022-03-16 11:44:00   0.395763             -1.366680   \n",
       "62779  2022-03-16 11:46:00   0.555046             -1.223041   \n",
       "\n",
       "       SCR A Outlet O2 1 Sel  ECON B OUT GAS O2 ANAL  SCR B Inlet Duct Press  \\\n",
       "0                   2.991449                2.256335                1.092835   \n",
       "1                   2.844743                2.193955                1.241182   \n",
       "2                   2.970381                1.718137                1.800609   \n",
       "3                   2.476940                1.246795                0.571312   \n",
       "4                   2.646269                1.435392                0.505971   \n",
       "...                      ...                     ...                     ...   \n",
       "62775              -0.178544                2.395042               -1.810446   \n",
       "62776              -0.520904                1.760988               -0.913002   \n",
       "62777              -0.598766                0.966108               -1.782670   \n",
       "62778              -0.785705                0.135387               -1.641799   \n",
       "62779              -0.877462               -0.264822               -1.718859   \n",
       "\n",
       "       FURN GAS PRESS  SCR A Outlet Duct Press  MAIN STM TEMP  \\\n",
       "0            0.794482                 1.119847      -0.239467   \n",
       "1            0.187569                 0.825091      -0.573274   \n",
       "2            0.376263                 1.109972      -0.748070   \n",
       "3            0.333397                 0.804488      -0.280129   \n",
       "4           -0.433901                 0.597248       0.537152   \n",
       "...               ...                      ...            ...   \n",
       "62775        0.420922                -1.151115      -1.762902   \n",
       "62776        1.519289                -1.338824      -0.996386   \n",
       "62777        1.250577                -1.370039       0.475098   \n",
       "62778        2.296248                -1.620015       1.654851   \n",
       "62779        2.723956                -1.633512       1.829571   \n",
       "\n",
       "       SCR A Outlet NH3 1 Sel  ...  AH A OUT GAS TEMP  \\\n",
       "0                   -2.623049  ...          -0.803235   \n",
       "1                   -2.934943  ...          -0.732489   \n",
       "2                   -2.978062  ...          -0.705726   \n",
       "3                   -2.135760  ...          -0.671157   \n",
       "4                   -1.585906  ...          -0.655258   \n",
       "...                       ...  ...                ...   \n",
       "62775                0.006577  ...           0.204051   \n",
       "62776                0.006577  ...           0.163715   \n",
       "62777                0.006577  ...           0.149471   \n",
       "62778                0.006577  ...           0.152344   \n",
       "62779                0.006577  ...           0.200723   \n",
       "\n",
       "       SCR B I/L Duct Nox/O2 Anal Sel  TOTAL COAL FLOW WITHOUT CALORI  \\\n",
       "0                           -1.951646                       -1.054610   \n",
       "1                           -1.983516                       -1.094731   \n",
       "2                           -1.963824                       -1.076626   \n",
       "3                           -1.991270                       -1.069302   \n",
       "4                           -1.883006                       -1.073603   \n",
       "...                               ...                             ...   \n",
       "62775                        0.327606                        1.876406   \n",
       "62776                        0.638279                        2.061500   \n",
       "62777                        0.913418                        2.345914   \n",
       "62778                        1.078345                        2.513985   \n",
       "62779                        1.279399                        2.690663   \n",
       "\n",
       "       FWT(Feed Water Tank) PRESS  MAIN STEAM PRESS  \\\n",
       "0                       -2.245224         -2.225343   \n",
       "1                       -2.148095         -2.214059   \n",
       "2                       -2.192102         -2.247237   \n",
       "3                       -2.206725         -2.251125   \n",
       "4                       -2.220357         -2.234001   \n",
       "...                           ...               ...   \n",
       "62775                    1.118065          1.125768   \n",
       "62776                    1.111407          1.109180   \n",
       "62777                    1.210235          1.155295   \n",
       "62778                    1.422461          1.216345   \n",
       "62779                    1.997632          1.291182   \n",
       "\n",
       "       RH(Reheater) OUT STM PRESS(To IP Turbine)  AH A IN PRIM AIR PRESS  \\\n",
       "0                                      -2.028138                1.154996   \n",
       "1                                      -1.994608                1.173750   \n",
       "2                                      -2.047210                1.242733   \n",
       "3                                      -2.059985                1.402284   \n",
       "4                                      -2.057402                1.130145   \n",
       "...                                          ...                     ...   \n",
       "62775                                   1.146253                0.446107   \n",
       "62776                                   1.168355                0.571459   \n",
       "62777                                   1.304677                0.710798   \n",
       "62778                                   1.519712                0.757007   \n",
       "62779                                   1.999024                1.096354   \n",
       "\n",
       "       CRH A STM PRESS SELECTION    ta    hm  \n",
       "0                      -2.026161  -1.5  68.7  \n",
       "1                      -1.994063  -1.5  69.4  \n",
       "2                      -2.044568  -1.5  71.3  \n",
       "3                      -2.055574  -1.5  71.0  \n",
       "4                      -2.053294  -1.5  70.6  \n",
       "...                          ...   ...   ...  \n",
       "62775                   1.134180  12.6  44.1  \n",
       "62776                   1.168223  12.7  42.6  \n",
       "62777                   1.309256  12.8  38.6  \n",
       "62778                   1.517956  12.8  35.3  \n",
       "62779                   1.999864  12.9  36.0  \n",
       "\n",
       "[62780 rows x 34 columns]"
      ]
     },
     "execution_count": 23,
     "metadata": {},
     "output_type": "execute_result"
    }
   ],
   "source": [
    "df"
   ]
  },
  {
   "cell_type": "code",
   "execution_count": 24,
   "metadata": {},
   "outputs": [],
   "source": [
    "df.to_csv('../data/comple_pre.csv', index=False)\n"
   ]
  },
  {
   "cell_type": "code",
   "execution_count": null,
   "metadata": {},
   "outputs": [],
   "source": []
  }
 ],
 "metadata": {
  "kernelspec": {
   "display_name": "venv",
   "language": "python",
   "name": "python3"
  },
  "language_info": {
   "codemirror_mode": {
    "name": "ipython",
    "version": 3
   },
   "file_extension": ".py",
   "mimetype": "text/x-python",
   "name": "python",
   "nbconvert_exporter": "python",
   "pygments_lexer": "ipython3",
   "version": "3.10.11"
  }
 },
 "nbformat": 4,
 "nbformat_minor": 2
}
